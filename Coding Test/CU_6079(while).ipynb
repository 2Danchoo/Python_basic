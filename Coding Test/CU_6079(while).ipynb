{
  "nbformat": 4,
  "nbformat_minor": 0,
  "metadata": {
    "colab": {
      "name": "CU_6079(while).ipynb",
      "provenance": [],
      "collapsed_sections": []
    },
    "kernelspec": {
      "name": "python3",
      "display_name": "Python 3"
    },
    "language_info": {
      "name": "python"
    }
  },
  "cells": [
    {
      "cell_type": "markdown",
      "metadata": {
        "id": "j_Va4eo4FoAg"
      },
      "source": [
        "**CodeUp**\n",
        "# [6079.[기초-종합] 언제까지 더해야 할까?](https://https://codeup.kr/problem.php?id=6079)\n",
        "<hr/><br>\n",
        "\n",
        "1, 2, 3 ... 을 계속 더해 나갈 때,   \n",
        "그 합이 입력한 정수(0 ~ 1000)보다 같거나 작을 때까지만\n",
        "계속 더하는 프로그램을 작성해보자.\n",
        "\n",
        "즉, 1부터 n까지 정수를 계속 더해 나간다고 할 때,   \n",
        "어디까지 더해야 입력한 수보다 같거나 커지는 지를 알아보고자하는 문제이다.\n",
        "\n",
        "<br><hr/>\n",
        "\n",
        "입력 : 정수 1개가 입력된다. <br>\n",
        "\n",
        "출력 : 1, 2, 3, 4, 5 ... 를 순서대로 계속 더해 합을 만들어가다가, 입력된 정수와 같거나 커졌을 때, 마지막에 더한 정수를 출력한다.\n",
        "\n",
        "<hr/>\n",
        "\n",
        "입력 예시 : 55\n",
        "\n",
        "출력 예시 : 10\n",
        "\n"
      ]
    },
    {
      "cell_type": "markdown",
      "metadata": {
        "id": "rJBtODTQGZKW"
      },
      "source": [
        "## Think Solutions\n",
        "\n",
        "1. while 문 사용\n",
        "2. for 문과 if 문 사용\n"
      ]
    },
    {
      "cell_type": "markdown",
      "metadata": {
        "id": "sB0od85Bin7_"
      },
      "source": [
        "## Process"
      ]
    },
    {
      "cell_type": "markdown",
      "metadata": {
        "id": "nCx_nHbyj9sF"
      },
      "source": [
        "### while 문 사용"
      ]
    },
    {
      "cell_type": "code",
      "metadata": {
        "colab": {
          "base_uri": "https://localhost:8080/"
        },
        "id": "2cKkfJ6-RPP5",
        "outputId": "51f53aff-f7f0-4dc8-f9cc-31cacaef0627"
      },
      "source": [
        "n = int(input())\n",
        "i = 0\n",
        "sum = 0\n",
        "\n",
        "while n > sum :\n",
        "    i += 1\n",
        "    sum += i\n",
        "\n",
        "print(i)"
      ],
      "execution_count": null,
      "outputs": [
        {
          "output_type": "stream",
          "text": [
            "55\n",
            "10\n"
          ],
          "name": "stdout"
        }
      ]
    },
    {
      "cell_type": "code",
      "metadata": {
        "colab": {
          "base_uri": "https://localhost:8080/"
        },
        "id": "p3iFtX-hlogP",
        "outputId": "1117aaec-849d-4bfc-b3d7-e4a3685665db"
      },
      "source": [
        "n = int(input())\n",
        "\n",
        "i = 0\n",
        "sum = 0\n",
        "# 1로 시작해도 같은 결과가 나온다. # 그때 그때 다름\n",
        "\n",
        "# while에 조건문을 넣으면 오히려 복잡해지기 때문에 조건을 True로 두고 if문으로 break를 걸어준다\n",
        "\n",
        "while True:\n",
        "    sum += i\n",
        "\n",
        "    if sum >= n:\n",
        "        print(i)\n",
        "        break\n",
        "\n",
        "    i += 1"
      ],
      "execution_count": 11,
      "outputs": [
        {
          "output_type": "stream",
          "text": [
            "55\n",
            "10\n"
          ],
          "name": "stdout"
        }
      ]
    },
    {
      "cell_type": "markdown",
      "metadata": {
        "id": "f6QGQ2IekD06"
      },
      "source": [
        "### for 문 사용"
      ]
    },
    {
      "cell_type": "code",
      "metadata": {
        "colab": {
          "base_uri": "https://localhost:8080/"
        },
        "id": "x16WVXUpiw0h",
        "outputId": "c47b8f86-d9a7-46fe-b201-906209b7616f"
      },
      "source": [
        "n = int(input())\n",
        "i = 0\n",
        "sum = 0\n",
        "\n",
        "for i in range(n) :\n",
        "    i += 1\n",
        "    sum += i\n",
        "    if n == sum :\n",
        "        print(i)"
      ],
      "execution_count": 19,
      "outputs": [
        {
          "output_type": "stream",
          "text": [
            "55\n",
            "10\n"
          ],
          "name": "stdout"
        }
      ]
    },
    {
      "cell_type": "markdown",
      "metadata": {
        "id": "jgzpRJc5b4k0"
      },
      "source": [
        "## Pyhon Syntax\n",
        "\n"
      ]
    },
    {
      "cell_type": "markdown",
      "metadata": {
        "id": "_XFyQkWVr_tt"
      },
      "source": [
        "### while\n",
        "\n",
        "특정 조건이 주어질 때 이 **조건이 참일 동안** 명령을 **반복**하게 할 경우 **while 문**을 사용한다.\n",
        "\n",
        "```\n",
        "while expression :\n",
        "　　statement(s)\n",
        "```\n",
        "\n",
        "```\n",
        "while <조건문> :\n",
        "　　<반복할 명령1>\n",
        "　　<반복할 명령2>\n",
        "```\n",
        "\n",
        "while 문의 구조는 if문과 비슷하다.   \n",
        "조건이 참이면 명령을 반복하여 실행하고, 조건이 거짓이면 명령을 실행하지 않고 반복문에서 빠져나온다.   \n",
        "\n",
        "다만, if 문은 조건이 참일 경우 명령을 한 번만 실행하는 반면에   \n",
        "**while문은 조건이 참일 경우 계속해서 반복하여 실행**한다는 차이점이 있다.\n",
        "\n",
        "즉, while 문은 명령을 실행한 뒤에 다시 조건을 확인하고 여전히 조건이 참이라면 다시 명령을 실행한다.   \n",
        "이를 반복하다가 조건이 거짓이 되었을 경우 while 문에서 빠져나온다."
      ]
    },
    {
      "cell_type": "markdown",
      "metadata": {
        "id": "spkBzYzDen0M"
      },
      "source": [
        "<P align = \"center\">\n",
        "<img src = https://www.tutorialspoint.com/python3/images/python_while_loop.jpg>\n",
        "\n",
        "[Reference]\n",
        "[Python 3 Loop Statements: For Loop and While Loop](https://www.tutorialdocs.com/tutorial/python3/python3-loop-statements.html)"
      ]
    },
    {
      "cell_type": "markdown",
      "metadata": {
        "id": "V8lA7T5Sbf0b"
      },
      "source": [
        "##Failure Codes"
      ]
    },
    {
      "cell_type": "code",
      "metadata": {
        "colab": {
          "base_uri": "https://localhost:8080/"
        },
        "id": "2mS3Q9IuFmHQ",
        "outputId": "7eeb8531-5acf-47fb-ec09-96b9e55703de"
      },
      "source": [
        "num = int(input())\n",
        "a = 1 \n",
        "\n",
        "while num >= a :\n",
        "    a += 1\n",
        "\n",
        "print(a)\n"
      ],
      "execution_count": null,
      "outputs": [
        {
          "output_type": "stream",
          "text": [
            "55\n",
            "56\n"
          ],
          "name": "stdout"
        }
      ]
    },
    {
      "cell_type": "markdown",
      "metadata": {
        "id": "xA7jN9XAbj_g"
      },
      "source": [
        "*while 문에 대한 이해 부족*\n",
        "\n",
        "> while S < N일 경우 : S >= N　　　# S가 N보다 크거나 같을 때 탈출   \n",
        "while S <= N일 경우 : S > N　　　# S가 N보다 클 때만 탈출\n",
        "\n",
        "\n",
        " "
      ]
    },
    {
      "cell_type": "code",
      "metadata": {
        "colab": {
          "base_uri": "https://localhost:8080/"
        },
        "id": "m0Ev-dETJivj",
        "outputId": "b88d16f2-eb4c-480c-8991-6b3b78a87cad"
      },
      "source": [
        "num = int(input())\n",
        "i = 0\n",
        "sum = 0\n",
        "\n",
        "while num >= sum :\n",
        "    i += 1\n",
        "    sum += i\n",
        "\n",
        "print(i)"
      ],
      "execution_count": null,
      "outputs": [
        {
          "output_type": "stream",
          "text": [
            "55\n",
            "11\n"
          ],
          "name": "stdout"
        }
      ]
    },
    {
      "cell_type": "markdown",
      "metadata": {
        "id": "gTCGi0q-g28G"
      },
      "source": [
        "## Reference\n",
        "\n",
        "점프 투 파이썬 : https://wikidocs.net/21#while\n",
        "Python \"while\" Loops (Indefinite Iteration) : https://realpython.com/python-while-loop/   \n",
        "Python while Loop Statements : https://www.tutorialspoint.com/python/python_while_loop.htm   \n",
        "Python 3 Loop Statements: For Loop and While Loop : https://www.tutorialdocs.com/tutorial/python3/python3-loop-statements.html"
      ]
    }
  ]
}