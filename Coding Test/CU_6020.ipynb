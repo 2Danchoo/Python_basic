{
  "nbformat": 4,
  "nbformat_minor": 0,
  "metadata": {
    "colab": {
      "name": "CU_6020.ipynb",
      "provenance": [],
      "collapsed_sections": []
    },
    "kernelspec": {
      "name": "python3",
      "display_name": "Python 3"
    }
  },
  "cells": [
    {
      "cell_type": "markdown",
      "metadata": {
        "id": "FV4AOCqA3cjf"
      },
      "source": [
        "**CodeUp**\n",
        "# 6020.[기초-입출력] 주민번호 입력받아 형태 바꿔 출력하기\n",
        "<hr/><hr/>\n",
        "\n",
        "주민번호는 다음과 같이 구성된다.   \n",
        "XXXXXX-XXXXXXX\n",
        "\n",
        "왼쪽 6자리는 생년월일(YYMMDD)이고, 오른쪽 7자리는 성별,출생지역,확인코드로 구성되어있다.   \n",
        "주민번호를 입력받아 형태를 바꿔 출력해보자.\n",
        "\n",
        "<hr/>\n",
        "\n",
        "입력 :  \n",
        "\n",
        "주민번호 앞 6자리와 뒷 7자리가 '-'로 구분되어 입력된다.   \n",
        "(입력값은 가상의 주민번호이다.)   \n",
        "ex)110011-0000000 <br>\n",
        "\n",
        "<hr/>\n",
        "\n",
        "출력 :  \n",
        "\n",
        "'-'를 제외한 주민번호 13자리를 모두 붙여 출력한다.\n",
        "\n",
        "참고\n",
        "아무것도 없는 공(empty) 문자는 작은 따옴표(') 2개를 붙여서 '' 로 표현한다.\n",
        "\n",
        "<hr/><hr/>\n",
        "\n",
        "입력 예시 : 000907-1121112\n",
        "\n",
        "<hr/>\n",
        "\n",
        "출력 예시 : 0009071121112\n",
        "\n",
        "<hr/>"
      ]
    },
    {
      "cell_type": "code",
      "metadata": {
        "colab": {
          "base_uri": "https://localhost:8080/"
        },
        "id": "c4ytAtnC3aHg",
        "outputId": "c8e7ca30-dbc4-4e21-946b-723ee0156fe9"
      },
      "source": [
        "a, b = input().split(\"-\")\n",
        "print(a,b,sep = \"\")"
      ],
      "execution_count": 3,
      "outputs": [
        {
          "output_type": "stream",
          "text": [
            "000907-1121112\n",
            "0009071121112\n"
          ],
          "name": "stdout"
        }
      ]
    },
    {
      "cell_type": "code",
      "metadata": {
        "colab": {
          "base_uri": "https://localhost:8080/"
        },
        "id": "rCLgzyE-6sLk",
        "outputId": "b8f383d3-b8e3-43ae-fd8f-c1f8f54f52b5"
      },
      "source": [
        "a, b = map(str,input().split('-'))\n",
        "\n",
        "print(a+b)"
      ],
      "execution_count": 2,
      "outputs": [
        {
          "output_type": "stream",
          "text": [
            "000907-1121112\n",
            "0009071121112\n"
          ],
          "name": "stdout"
        }
      ]
    },
    {
      "cell_type": "code",
      "metadata": {
        "colab": {
          "base_uri": "https://localhost:8080/"
        },
        "id": "5cFaYhMl6hlP",
        "outputId": "b68dba03-f4c7-4e23-dc93-dbb727b6406d"
      },
      "source": [
        "print(''.join(input().split('-')))"
      ],
      "execution_count": 1,
      "outputs": [
        {
          "output_type": "stream",
          "text": [
            "000907-1121112\n",
            "0009071121112\n"
          ],
          "name": "stdout"
        }
      ]
    }
  ]
}