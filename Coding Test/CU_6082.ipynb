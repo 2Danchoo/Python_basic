{
  "nbformat": 4,
  "nbformat_minor": 0,
  "metadata": {
    "colab": {
      "name": "CU_6082.ipynb",
      "provenance": [],
      "collapsed_sections": []
    },
    "kernelspec": {
      "name": "python3",
      "display_name": "Python 3"
    },
    "language_info": {
      "name": "python"
    }
  },
  "cells": [
    {
      "cell_type": "markdown",
      "metadata": {
        "id": "NM5IsR3v2fDg"
      },
      "source": [
        "**CodeUp**\n",
        "# [6082.[기초-종합] 3 6 9 게임의 왕이 되자](https://codeup.kr/problem.php?id=6082)\n",
        "<hr/><br>\n",
        "\n",
        "친구들과 함께 3 6 9 게임을 하던 영일이는 잦은 실수 때문에 계속해서 벌칙을 받게 되었다.   \n",
        "3 6 9 게임의 왕이 되기 위한 369 마스터 프로그램을 작성해 보자.   \n",
        "\n",
        "** 3 6 9 게임은?\n",
        "\n",
        "여러 사람이 순서를 정한 후, 순서대로 수를 부르는 게임이다.   \n",
        "만약 3, 6, 9 가 들어간 수를 자신이 불러야 하는 상황이라면, 수를 부르는 대신 \"박수(X)\" 를 쳐야 한다.   \n",
        "33과 같이 3,6,9가 두 번 들어간 수 일때, \"짝짝\"과 같이 박수를 두 번 치는 형태도 있다.   <br>\n",
        "\n",
        "\n",
        "참고\n",
        "\n",
        "```\n",
        "for i in range(1, n+1) :\n",
        "  if i%10==3 :\n",
        "    print(\"X\", end=' ')    #출력 후 공백문자(빈칸, ' ')로 끝냄\n",
        "```\n",
        "<br><hr/>\n",
        "\n",
        "입력 : 30 보다 작은 정수 1개가 입력된다. (1 ~ 29) \n",
        " <br>\n",
        "\n",
        "출력 : 1 부터 그 수까지 순서대로 공백을 두고 수를 출력하는데,\n",
        "3, 6, 9가 포함 되어있는 수인 경우, 숫자 대신 영문자 X 를 출력한다.\n",
        "\n",
        "<hr/>\n",
        "\n",
        "입력 예시 : 9\n",
        "\n",
        "출력 예시 : 1 2 X 4 5 X 7 8 X\n",
        "\n"
      ]
    },
    {
      "cell_type": "markdown",
      "metadata": {
        "id": "Xlc2ohzJo-cP"
      },
      "source": [
        "## Soluton"
      ]
    },
    {
      "cell_type": "markdown",
      "metadata": {
        "id": "0sIiXv87NvVo"
      },
      "source": [
        "입력한 수만큼 for 문으로 반복한 다음   \n",
        "i 를 10으로 나누었을 때, 그 나머지가 3 또는 6 또는 9일 경우, X로 출력"
      ]
    },
    {
      "cell_type": "code",
      "metadata": {
        "colab": {
          "base_uri": "https://localhost:8080/"
        },
        "id": "H8JEojcWA5Eq",
        "outputId": "6ce8c33d-11fd-4e50-98b2-62940945ac48"
      },
      "source": [
        "n = int(input())\n",
        "\n",
        "for i in range(1, n+1) :\n",
        "    if (i % 10 == 3 or i % 10 == 6 or i % 10 == 9) :\n",
        "        print(\"X\", end = ' ')\n",
        "    print(i, end = \" \")"
      ],
      "execution_count": null,
      "outputs": [
        {
          "output_type": "stream",
          "text": [
            "9\n",
            "1 2 X 3 4 5 X 6 7 8 X 9 "
          ],
          "name": "stdout"
        }
      ]
    },
    {
      "cell_type": "markdown",
      "metadata": {
        "id": "d3CwB1RfHY-5"
      },
      "source": [
        "i를 str()형으로 바꾼 후 '3', '6', '9' 가 들어가면 X로 출력"
      ]
    },
    {
      "cell_type": "code",
      "metadata": {
        "colab": {
          "base_uri": "https://localhost:8080/"
        },
        "id": "ZNVDxX7JHCj_",
        "outputId": "bbb0be78-3d47-4ad7-8875-aec1b729c0d8"
      },
      "source": [
        "n = int(input())\n",
        "\n",
        "for i in range(1,a+1):\n",
        "    if '3' in str(i) or '6' in str(i) or '9' in str(i) :\n",
        "        print('X',end=' ')\n",
        "    else :    \n",
        "        print(i,end=' ')"
      ],
      "execution_count": null,
      "outputs": [
        {
          "output_type": "stream",
          "text": [
            "9\n",
            "1 2 X 4 5 X 7 8 X "
          ],
          "name": "stdout"
        }
      ]
    },
    {
      "cell_type": "markdown",
      "metadata": {
        "id": "aDfg1wALelbG"
      },
      "source": [
        "\n",
        "문자열 형태로 리스트에 저장 후   \n",
        "3, 6, 9가 포함 되어 있으면 X로 치환하여 출력"
      ]
    },
    {
      "cell_type": "code",
      "metadata": {
        "colab": {
          "base_uri": "https://localhost:8080/"
        },
        "id": "274Yv4v2eTDz",
        "outputId": "e2623eee-ae78-4eec-b86d-789f3f7d7d04"
      },
      "source": [
        "n = int(input())\n",
        "str_list = []\n",
        "\n",
        "for i in range(1, n+1):\n",
        "    str_list.append(str(i))\n",
        "\n",
        "for i in str_list :\n",
        "    if '3' in i or '6' in i or '9' in i :\n",
        "        print('X', end=' ')\n",
        "\n",
        "    else:\n",
        "        print(i, end=' ')"
      ],
      "execution_count": 1,
      "outputs": [
        {
          "output_type": "stream",
          "text": [
            "9\n",
            "1 2 X 4 5 X 7 8 X "
          ],
          "name": "stdout"
        }
      ]
    }
  ]
}