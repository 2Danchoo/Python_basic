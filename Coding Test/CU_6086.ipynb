{
  "nbformat": 4,
  "nbformat_minor": 0,
  "metadata": {
    "colab": {
      "name": "CU_6086.ipynb",
      "provenance": [],
      "collapsed_sections": []
    },
    "kernelspec": {
      "name": "python3",
      "display_name": "Python 3"
    },
    "language_info": {
      "name": "python"
    }
  },
  "cells": [
    {
      "cell_type": "markdown",
      "metadata": {
        "id": "ABMTKACb7iDO"
      },
      "source": [
        "**CodeUp**\n",
        "# [6086 : [기초-종합] 거기까지! 이제 그만~](https://codeup.kr/problem.php?id=6086)\n",
        "<hr/><br>\n",
        "\n",
        "1, 2, 3 ... 을 순서대로 계속 더해 합을 만드는데,\n",
        "그 합이 입력한 정수보다 작을 동안만 계속 더하는 프로그램을 작성해보자.\n",
        "\n",
        "즉, 1부터 n까지 정수를 하나씩 더해 합을 만드는데,\n",
        "어디까지 더해야 입력한 수보다 같거나 커지는지 알아보고자 하는 문제이다.\n",
        "\n",
        "하지만, 이번에는 그 때 까지의 합을 출력해야 한다.\n",
        "\n",
        "예를 들어, 57을 입력하면\n",
        "1+2+3+...+8+9+10=55에서 그 다음 수인 11을 더해 66이 될 때,\n",
        "그 값 66이 출력되어야 한다.\n",
        "\n",
        "예시\n",
        "```\n",
        "while True :\n",
        "  s += c\n",
        "  c += 1\n",
        "  if s>=n :\n",
        "    break\n",
        "\n",
        "print(s)\n",
        "```\n",
        "\n",
        "**참고**   \n",
        "조건문이나 반복문의 코드블록 안에서 break 가 실행되면,   \n",
        "반복실행을 중단(break)하고 가장 가까운 반복 블록의 밖으로 빠져나간다.\n",
        "\n",
        "<br><hr/>\n",
        "\n",
        "입력 : 언제까지 합을 계산할 지, 정수 1개를 입력받는다. 단, 입력되는 자연수는 100,000,000이하이다.   \n",
        " <br>\n",
        "출력 : 1, 2, 3, 4, 5 ... 순서대로 계속 더해가다가 그 합이 입력된 정수보다 커지거나 같아지는 경우,\n",
        "그때까지의 합을 출력한다.\n",
        "\n",
        "<hr/>\n",
        "\n",
        "입력 예시 : 57\n",
        "\n",
        "출력 예시 : 66\n",
        "\n"
      ]
    },
    {
      "cell_type": "markdown",
      "metadata": {
        "id": "4MS9FDmCNz5X"
      },
      "source": [
        "## Solution"
      ]
    },
    {
      "cell_type": "markdown",
      "metadata": {
        "id": "eIzYNNhEN1ua"
      },
      "source": [
        "### while 문 사용"
      ]
    },
    {
      "cell_type": "code",
      "metadata": {
        "colab": {
          "base_uri": "https://localhost:8080/"
        },
        "id": "RUGGPL19tkwS",
        "outputId": "9f0e1354-fee9-45e6-fb4b-7d071fb0b9a5"
      },
      "source": [
        "n = int(input())\n",
        "sum = 0\n",
        "\n",
        "for i in range(1, n+1) :\n",
        "    sum += i\n",
        "    i += 1\n",
        "    if n <= sum :\n",
        "        print(sum) ; break"
      ],
      "execution_count": null,
      "outputs": [
        {
          "output_type": "stream",
          "text": [
            "57\n",
            "66\n"
          ],
          "name": "stdout"
        }
      ]
    },
    {
      "cell_type": "markdown",
      "metadata": {
        "id": "BbxQn-XzN4Hj"
      },
      "source": [
        "### for 문 사용"
      ]
    },
    {
      "cell_type": "code",
      "metadata": {
        "colab": {
          "base_uri": "https://localhost:8080/"
        },
        "id": "TA8tqMhOxvOZ",
        "outputId": "1436b1d6-7497-4109-f55d-5df1f0c1e6e6"
      },
      "source": [
        "n = int(input())\n",
        "i = 0\n",
        "sum = 0\n",
        "\n",
        "while True :\n",
        "    sum += i\n",
        "    i += 1\n",
        "    if n <= sum :\n",
        "        print(sum) ; break"
      ],
      "execution_count": null,
      "outputs": [
        {
          "output_type": "stream",
          "text": [
            "57\n",
            "66\n"
          ],
          "name": "stdout"
        }
      ]
    }
  ]
}