{
  "nbformat": 4,
  "nbformat_minor": 0,
  "metadata": {
    "colab": {
      "name": "CU_6018(split).ipynb",
      "provenance": [],
      "collapsed_sections": []
    },
    "kernelspec": {
      "name": "python3",
      "display_name": "Python 3"
    }
  },
  "cells": [
    {
      "cell_type": "markdown",
      "metadata": {
        "id": "OmLRsYhltg1b"
      },
      "source": [
        "**CodeUp**\n",
        "# 6018.[기초-입출력] 시간 입력받아 그대로 출력하기\n",
        "<hr/><br>\n",
        "\n",
        "24시간 시:분 형식으로 시간이 입력될 때, 그대로 출력하는 연습을 해보자.\n",
        "\n",
        "예시)   \n",
        "a, b = input().split(':')\n",
        "print(a, b, sep=':')\n",
        "와 같은 방법으로 가능하다.\n",
        "\n",
        "참고)   \n",
        "input().split(':') 를 사용하면 콜론 ':' 기호를 기준으로 자른다.\n",
        "print(?, ?, sep=':') 를 사용하면 콜론 ':' 기호를 사이에 두고 값을 출력한다.\n",
        "sep 는 분류기호(seperator)를 의미한다.\n",
        "\n",
        "\n",
        "<br><hr/>\n",
        "\n",
        "입력 : 시(hour) 분(minute)이 콜론(':')으로 구분되어 한 줄로 입력된다. ex) 3:16 <br>\n",
        "출력 : 입력받은 시간 형식과 똑같이 \"시:분\" 형태로 출력한다. ex) 3 : 16\n"
      ]
    },
    {
      "cell_type": "markdown",
      "metadata": {
        "id": "wKrQs3qYzHn_"
      },
      "source": [
        "## Think Solutions\n",
        "\n",
        "---\n",
        "\n",
        "**1. input**\n",
        "\n",
        "1-1. input() 함수를 각각 따로 받아 콜론(:)을 기준으로 합치면 되지 않을까?   \n",
        "→ '시:분' 형식으로 시간을 입력하여야 한다고 했으므로 X\n",
        "\n",
        "1-2. 예시에 나온 split() 함수를 이용하여 입력 받은 값을 분리   "
      ]
    },
    {
      "cell_type": "markdown",
      "metadata": {
        "id": "4O6KARZfmowU"
      },
      "source": [
        "## Process"
      ]
    },
    {
      "cell_type": "code",
      "metadata": {
        "colab": {
          "base_uri": "https://localhost:8080/"
        },
        "id": "_0Zog3dBxr1_",
        "outputId": "8822b5d6-f8c9-4d65-ccd7-60ba5813d958"
      },
      "source": [
        "a = input().split(':')\n",
        "print(a)"
      ],
      "execution_count": null,
      "outputs": [
        {
          "output_type": "stream",
          "text": [
            "3:15\n",
            "['3', '15']\n"
          ],
          "name": "stdout"
        }
      ]
    },
    {
      "cell_type": "markdown",
      "metadata": {
        "id": "hO3FggRomvTC"
      },
      "source": [
        "입력값에 3:15 를 넣어주면 콜론(:)을 기준으로 3과 15가 변수 a에 분리 되어 저장되며 나누어진 각각의 값은 리스트로 출력된다.\n",
        "\n",
        "이때 입력값을 int형으로 받기 원한다면 `map()` 함수를 사용하면 된다.   \n",
        "\n",
        "```\n",
        "a = list(map(int,input().split()))\n",
        "```\n"
      ]
    },
    {
      "cell_type": "code",
      "metadata": {
        "colab": {
          "base_uri": "https://localhost:8080/"
        },
        "id": "nANy2mKhnczJ",
        "outputId": "90649a14-2240-472f-9d92-bb8ae3f2e678"
      },
      "source": [
        "a, b = input().split(':')\n",
        "print(a)\n",
        "print(b)"
      ],
      "execution_count": null,
      "outputs": [
        {
          "output_type": "stream",
          "text": [
            "3:15\n",
            "3\n",
            "15\n"
          ],
          "name": "stdout"
        }
      ]
    },
    {
      "cell_type": "markdown",
      "metadata": {
        "id": "y06ZAhrNnmjt"
      },
      "source": [
        "여러 변수에 각각 입력값을 담아줄 수도 있다."
      ]
    },
    {
      "cell_type": "code",
      "metadata": {
        "colab": {
          "base_uri": "https://localhost:8080/"
        },
        "id": "OseEZH1bVwq8",
        "outputId": "af42a275-7fdb-4241-ae7f-e1baf461026e"
      },
      "source": [
        "a, b, c = input().split('-')\n",
        "print(a)\n",
        "print(b)\n",
        "print(c)"
      ],
      "execution_count": 1,
      "outputs": [
        {
          "output_type": "stream",
          "text": [
            "input-split-map\n",
            "input\n",
            "split\n",
            "map\n"
          ],
          "name": "stdout"
        }
      ]
    },
    {
      "cell_type": "markdown",
      "metadata": {
        "id": "NRxfvEMIWS2S"
      },
      "source": [
        "#### Code 1\n",
        "\n",
        "split() 함수를 이용하여 입력값을 2개의 변수에 각각 담은 후   \n",
        "콜론(:)을 구분자(separator)로 구분하여 함께 출력"
      ]
    },
    {
      "cell_type": "code",
      "metadata": {
        "colab": {
          "base_uri": "https://localhost:8080/"
        },
        "id": "SstvGEIm14_X",
        "outputId": "c0b2adac-30ba-47cf-de9d-6de84e11a933"
      },
      "source": [
        "a, b = input().split(':')\n",
        "print(a, b, sep = \":\")"
      ],
      "execution_count": null,
      "outputs": [
        {
          "output_type": "stream",
          "text": [
            "3:16\n",
            "3:16\n"
          ],
          "name": "stdout"
        }
      ]
    },
    {
      "cell_type": "markdown",
      "metadata": {
        "id": "Ic5b0CBOnW1v"
      },
      "source": [
        "#### Code 2\n",
        "\n",
        "split() 함수를 이용하여 입력값을 2개의 변수에 각각 담은 후   \n",
        "% Operator을 이용해 문자열로 각각 포맷팅"
      ]
    },
    {
      "cell_type": "code",
      "metadata": {
        "colab": {
          "base_uri": "https://localhost:8080/"
        },
        "id": "WZ-uGX64tfOK",
        "outputId": "fc421ecf-7f5c-4478-b446-cf9d7826bf6d"
      },
      "source": [
        "a = input().split(':')\n",
        "b = \"%s:%s\" % (a[0], a[1])\n",
        "\n",
        "print(b)"
      ],
      "execution_count": null,
      "outputs": [
        {
          "output_type": "stream",
          "text": [
            "3:16\n",
            "3:16\n"
          ],
          "name": "stdout"
        }
      ]
    },
    {
      "cell_type": "markdown",
      "metadata": {
        "id": "JGCayU0FXSxp"
      },
      "source": [
        "#### Code 3\n",
        "\n",
        "입력값 전체를 변수 하나에 담고 변수 자체를 출력"
      ]
    },
    {
      "cell_type": "code",
      "metadata": {
        "colab": {
          "base_uri": "https://localhost:8080/"
        },
        "id": "4Q4BUF2XXNEp",
        "outputId": "2ce3e18e-0a85-4c30-957d-ddf3949457e6"
      },
      "source": [
        "a = input()\n",
        "print(a)"
      ],
      "execution_count": 2,
      "outputs": [
        {
          "output_type": "stream",
          "text": [
            "3:16\n",
            "3:16\n"
          ],
          "name": "stdout"
        }
      ]
    },
    {
      "cell_type": "markdown",
      "metadata": {
        "id": "xLF4MsyE1gQt"
      },
      "source": [
        "## Pyton Syntax"
      ]
    },
    {
      "cell_type": "markdown",
      "metadata": {
        "id": "aP7kL2Hi1gKM"
      },
      "source": [
        "### split()\n",
        "\n",
        "**Using split() method :**\n",
        "\n",
        "This function helps in getting a multiple inputs from user. It breaks the given input by the specified separator.   \n",
        "If a separator is not provided then any white space is a separator.    \n",
        "Generally, user use a split() method to split a Python string but one can use it in taking multiple input.\n",
        "\n",
        "```\n",
        "input().split(separator, maxsplit)\n",
        "```\n",
        "<hr>\n",
        "\n",
        "`split` 함수를 사용하면 공백(기본값) 또는 특정 문자를 기준으로 문자열을 분리할 수 있다.\n",
        "separator(구분자)가 따로 주어지지 않는다면 공백(White space)이 기본값이다.\n",
        "일반적으로 `split()` 함수는 문자열을 분할할 때 사용하지만, 여러 input값을 받고 싶을 때 사용할 수도 있다.\n",
        "\n",
        "separator : 문자열을 나눌 때 그 기준으로 사용할 문자. 기본값은 white space (공백)   \n",
        "maxsplit : 문자열을 나눌 횟수. 기본값은 -1이며, 횟수의 제한 없이 나눌 수 있는 문자열을 모두 나눈다는 의미\n",
        "\n"
      ]
    },
    {
      "cell_type": "markdown",
      "metadata": {
        "id": "UYMLF3HMCw8Y"
      },
      "source": [
        "### + **Method**\n",
        "\n",
        "메소드 (Method)\n",
        "\n",
        "내장 함수(Built-in Function)와는 달리 문자열 자료형과 같이 특정 자료형이 가지고 있는 함수를 메소드(Method) 라고 한다.   \n",
        "메소드는 객체 지향 프로그래밍의 기능에 대응하는 파이썬 용어이다.   \n",
        "함수와 거의 동일한 의미이지만 메소드는 클래스의 멤버라는 점이 다르다."
      ]
    },
    {
      "cell_type": "markdown",
      "metadata": {
        "id": "eEaW_8vPItoQ"
      },
      "source": [
        "**String Operations**\n",
        "\n",
        "<p align=\"center\">\n",
        "<img src = \"https://miro.medium.com/max/3724/1*saSNHPFIa1YtVGA1yCERvQ.png\">\n",
        "</P>\n",
        "\n",
        "<hr>\n",
        "<p align=\"center\">\n",
        "<img src = \"https://t1.daumcdn.net/cfile/tistory/9965B1335983DB3534\">\n",
        "</P>\n"
      ]
    },
    {
      "cell_type": "markdown",
      "metadata": {
        "id": "OZ9mozxf1C5v"
      },
      "source": [
        "## [참고]\n",
        "\n",
        "[파이썬 코딩 도장] 입력 값을 변수 두 개에 저장하기 : https://dojang.io/mod/page/view.php?id=2179      \n",
        "Taking multiple inputs from user in Python : https://www.geeksforgeeks.org/taking-multiple-inputs-from-user-in-python/   \n",
        "\n",
        "Python String Operation : https://medium.com/dev-genius/python-string-operations-f8eeabf8eb71   \n",
        "파이썬 문자열 처리를 위한 다양한 메소드 : https://rfriend.tistory.com/327   \n",
        "입력받기 : https://blog.naver.com/wpghks7/221584113312"
      ]
    }
  ]
}