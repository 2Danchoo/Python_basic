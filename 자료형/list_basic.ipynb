{
  "nbformat": 4,
  "nbformat_minor": 0,
  "metadata": {
    "colab": {
      "name": "list_basic.ipynb",
      "provenance": [],
      "collapsed_sections": []
    },
    "kernelspec": {
      "name": "python3",
      "display_name": "Python 3"
    }
  },
  "cells": [
    {
      "cell_type": "markdown",
      "metadata": {
        "id": "SZ_augOGOHZ4"
      },
      "source": [
        "##자료형\r\n",
        "\r\n",
        "프로그래밍을 할 때 쓰는 숫자, 문자열 등 자료 형태로 사용하는 자료의 모든 종류를 파이썬에서는 **자료형**이라고 한다.   \r\n",
        "여러 자료형이 있지만 파이썬에서 가장 기본적인 자료형에는 숫자형, 문자열, 리스트, 튜플 등이 있다."
      ]
    },
    {
      "cell_type": "markdown",
      "metadata": {
        "id": "4QnVwFaIPfjo"
      },
      "source": [
        "## list\r\n",
        "\r\n",
        "자료는 여러 개를 함께 보관할 수도 있다.   \r\n",
        "그중 하나가 '자료 목록'을 뜻하는 **리스트(list)**이다.\r\n",
        "\r\n",
        "```\r\n",
        "리스트 이름 = [요소1, 요소2, 요소3, ...]\r\n",
        "```\r\n",
        "\r\n",
        "리스트를 만들 때는 위에서와 같이 대괄호( [ ] ) 로 감싸 주고   \r\n",
        "각 요소는 쉼표( , )로 구분해주면 된다.\r\n",
        "\r\n"
      ]
    },
    {
      "cell_type": "markdown",
      "metadata": {
        "id": "5VVUr8KK2Esg"
      },
      "source": [
        "리스트 안에는 어떤 형식이든 상관 없이 숫자형, 문자열 등 여러 자료를 함께 담을 수 있으며   \r\n",
        "리스트 안에 리스트를 넣을 수도 있고 집합, 딕셔너리들을 넣을 수도 있다.\r\n",
        "\r\n",
        "```\r\n",
        "[]　 # 빈 리스트\r\n",
        "['a']　 # 리스트 안의 문자열\r\n",
        "[1, 'a', [1, 2]] 　# 여러 자료형을 함께 넣을 수도 있고, 리스트 안에 리스트를 넣을 수도 있다.\r\n",
        "```\r\n",
        "\r\n"
      ]
    },
    {
      "cell_type": "markdown",
      "metadata": {
        "id": "v6ltnNWa580q"
      },
      "source": [
        "### 리스트의 인덱싱과 슬라이싱"
      ]
    },
    {
      "cell_type": "markdown",
      "metadata": {
        "id": "-Zivip126D7R"
      },
      "source": [
        "리스트도 문자열처럼 인덱싱과 슬라이싱이 가능하다.\r\n",
        "\r\n",
        "리스트 안의 자료는 문자열과 같이 앞에서부터 차례대로 순서가 매겨지는데   \r\n",
        "같은 원소를 조합하더라도 순서가 다르면 다른 문자열, 다른 리스트가 된다.\r\n",
        "\r\n"
      ]
    },
    {
      "cell_type": "markdown",
      "metadata": {
        "id": "65sr9bGk6zoR"
      },
      "source": [
        "#### 인덱싱\r\n",
        "\r\n",
        "우리는 숫자를 셀 때 1부터 시작하지만, 문자열과 리스트에서 원소의 순서는 0부터 시작한다.   \r\n",
        "이러한 원소의 순서를 인덱스(index)라고 한다.\r\n",
        "\r\n",
        "예를 들어 문자열 'abc'가 있을 때,   \r\n",
        "'a'는 0, 'b'는 1, 'c'는 2 ... 이런 식으로 인덱스를 매길 수 있다.   \r\n",
        "리스트의 경우도 마찬가지."
      ]
    },
    {
      "cell_type": "code",
      "metadata": {
        "id": "9N__ij6SN8fl",
        "colab": {
          "base_uri": "https://localhost:8080/"
        },
        "outputId": "58bc92af-cd51-46bc-9d43-0e87694d525c"
      },
      "source": [
        "number = [1, 2, 3]\r\n",
        "number[0]"
      ],
      "execution_count": 1,
      "outputs": [
        {
          "output_type": "execute_result",
          "data": {
            "text/plain": [
              "1"
            ]
          },
          "metadata": {
            "tags": []
          },
          "execution_count": 1
        }
      ]
    },
    {
      "cell_type": "markdown",
      "metadata": {
        "id": "PCdfX6fgLkQo"
      },
      "source": [
        "number[0]은 리스트 number 의 첫번째 원소이므로,   \r\n",
        "인덱스 0은 1이다."
      ]
    },
    {
      "cell_type": "code",
      "metadata": {
        "id": "BKkuf7Bl7H4R",
        "colab": {
          "base_uri": "https://localhost:8080/",
          "height": 35
        },
        "outputId": "176201ba-4522-4b33-bf39-a88be4a5ccf1"
      },
      "source": [
        "a = 'Python'\r\n",
        "a[1]"
      ],
      "execution_count": 3,
      "outputs": [
        {
          "output_type": "execute_result",
          "data": {
            "application/vnd.google.colaboratory.intrinsic+json": {
              "type": "string"
            },
            "text/plain": [
              "'y'"
            ]
          },
          "metadata": {
            "tags": []
          },
          "execution_count": 3
        }
      ]
    },
    {
      "cell_type": "markdown",
      "metadata": {
        "id": "8fEK-qm6MZf3"
      },
      "source": [
        "리스트와 마찬가지로,   \r\n",
        "문자열 'Python'이 있을 때 'P'는 0, 'y'는 1, 't'는 2 ... 와 같은 순서로 인덱스를 매길 수 있다."
      ]
    },
    {
      "cell_type": "code",
      "metadata": {
        "colab": {
          "base_uri": "https://localhost:8080/",
          "height": 35
        },
        "id": "sQ4bjCYeM2C-",
        "outputId": "04fae377-102b-4042-ad73-927d7e161eb7"
      },
      "source": [
        "Alphabet = 'abcdefghijklmnopqrstuvwxyz'\r\n",
        "Alphabet[15]"
      ],
      "execution_count": 7,
      "outputs": [
        {
          "output_type": "execute_result",
          "data": {
            "application/vnd.google.colaboratory.intrinsic+json": {
              "type": "string"
            },
            "text/plain": [
              "'p'"
            ]
          },
          "metadata": {
            "tags": []
          },
          "execution_count": 7
        }
      ]
    },
    {
      "cell_type": "markdown",
      "metadata": {
        "id": "-c1T5QZgNbAe"
      },
      "source": [
        "a = 'Python' 과 같은 짧은 문자열에서는 원소의 위치를 쉽게 알 수 있지만,    \r\n",
        "문자열 또는 리스트 자료가 많을 경우 원소가 어디에 위치해 있는지 알기 어려울 수 있다.\r\n",
        "\r\n",
        "이럴 때, 문자열 또는 리스트 자료를 적고 뒤에 대괄호 []를 적은 후    \r\n",
        "그 안에 몇번째 원소를 구하고 싶은지 인덱스를 적으면 그 위치를 쉽게 알 수 있다.\r\n",
        "\r\n",
        "이렇게 인덱스를 이용하여 특정 위치의 원소를 불러오는 것을 **인덱싱**이라고 한다."
      ]
    },
    {
      "cell_type": "code",
      "metadata": {
        "colab": {
          "base_uri": "https://localhost:8080/",
          "height": 35
        },
        "id": "wh7VvFO6ORqG",
        "outputId": "49f5cbc5-185a-46fe-d24a-ffdd12a4072c"
      },
      "source": [
        "'Python'[3]"
      ],
      "execution_count": 12,
      "outputs": [
        {
          "output_type": "execute_result",
          "data": {
            "application/vnd.google.colaboratory.intrinsic+json": {
              "type": "string"
            },
            "text/plain": [
              "'h'"
            ]
          },
          "metadata": {
            "tags": []
          },
          "execution_count": 12
        }
      ]
    },
    {
      "cell_type": "code",
      "metadata": {
        "colab": {
          "base_uri": "https://localhost:8080/",
          "height": 35
        },
        "id": "7MZHatbUOaPf",
        "outputId": "28fd17c4-0fff-4caf-8d57-41403a2774ed"
      },
      "source": [
        "['a', 'b', 'c', 'd'][2]"
      ],
      "execution_count": 11,
      "outputs": [
        {
          "output_type": "execute_result",
          "data": {
            "application/vnd.google.colaboratory.intrinsic+json": {
              "type": "string"
            },
            "text/plain": [
              "'c'"
            ]
          },
          "metadata": {
            "tags": []
          },
          "execution_count": 11
        }
      ]
    },
    {
      "cell_type": "code",
      "metadata": {
        "colab": {
          "base_uri": "https://localhost:8080/"
        },
        "id": "SNp6UX47Okjf",
        "outputId": "477222ff-0028-4edc-9844-baf2bea2f92b"
      },
      "source": [
        "Alphabet = 'abcdefghijklmnopqrstuvwxyz'\r\n",
        "print(Alphabet[15])"
      ],
      "execution_count": 13,
      "outputs": [
        {
          "output_type": "stream",
          "text": [
            "p\n"
          ],
          "name": "stdout"
        }
      ]
    },
    {
      "cell_type": "markdown",
      "metadata": {
        "id": "0BvCQfDZOeGx"
      },
      "source": [
        "위와 같이 문자열이나 리스트 자료를 직접 입력할 수도 있고,   \r\n",
        "변수에 담아 사용할 수도 있다."
      ]
    },
    {
      "cell_type": "code",
      "metadata": {
        "colab": {
          "base_uri": "https://localhost:8080/"
        },
        "id": "MX63T5FbO44f",
        "outputId": "eb98c25b-639e-402a-c6d5-c35fcba67a87"
      },
      "source": [
        "word = ['apple', 'banana', 'camelus', 'dragonfruit']\r\n",
        "word[2] = 'cherry'\r\n",
        "print(word)"
      ],
      "execution_count": 19,
      "outputs": [
        {
          "output_type": "stream",
          "text": [
            "['apple', 'banana', 'cherry', 'dragonfruit']\n"
          ],
          "name": "stdout"
        }
      ]
    },
    {
      "cell_type": "markdown",
      "metadata": {
        "id": "YyAydeNRRR1Y"
      },
      "source": [
        "인덱싱을 사용하면 리스트의 원소를 바꿀 수도 있다.   \r\n",
        "그러나 리스트에서만 가능하며, 문자열은 안 된다.\r\n",
        "\r\n",
        "위의 예시에서는 세번째 원소 (인덱스 2)인 'camelus'를 'cherry'로 바꿔주었다."
      ]
    },
    {
      "cell_type": "markdown",
      "metadata": {
        "id": "8sd3mlwdTahn"
      },
      "source": [
        "**삼중 리스트**\r\n",
        "\r\n",
        "앞에서 말했듯, 리스트 안에 리스트를 넣을 수도 있는데   \r\n",
        "이와 같이 다중 리스트에서 인덱싱을 하는 방법은 아래와 같다. "
      ]
    },
    {
      "cell_type": "code",
      "metadata": {
        "colab": {
          "base_uri": "https://localhost:8080/",
          "height": 35
        },
        "id": "dPLQFjWzR_yQ",
        "outputId": "dcd57105-4aa6-4851-d6a9-5976fab11311"
      },
      "source": [
        "word = [1, 2, 3, ['A', 'B', ['a', 'b', 'c']]]\r\n",
        "word[3][2][1]"
      ],
      "execution_count": 20,
      "outputs": [
        {
          "output_type": "execute_result",
          "data": {
            "application/vnd.google.colaboratory.intrinsic+json": {
              "type": "string"
            },
            "text/plain": [
              "'b'"
            ]
          },
          "metadata": {
            "tags": []
          },
          "execution_count": 20
        }
      ]
    },
    {
      "cell_type": "markdown",
      "metadata": {
        "id": "TQAzfNGITYuo"
      },
      "source": [
        "위의 예에서 `word[3][2][1]`은   \r\n",
        "리스트 word의 네번째 원소(인덱스 3)인 리스트 `['A', 'B', ['a', 'b', 'c']]`에서   \r\n",
        "세번째 원소(인덱스 2)인 `['a', 'b', 'c']`의    \r\n",
        "두번째 원소(인덱스 1) 를 나타낸다. "
      ]
    },
    {
      "cell_type": "markdown",
      "metadata": {
        "id": "BBTHcaEMUjNI"
      },
      "source": [
        "#### 슬라이싱\r\n",
        "\r\n",
        "특정 위치의 원소 한 개만 가져오는 게 아니라   \r\n",
        "일정 범위에 해당하는 원소를 모두 다 가져오고 싶을 때,    \r\n",
        "문자열이나 리스트의 일부분을 잘라 가져오는 방법을 **슬라이싱**이라고 한다.\r\n",
        "\r\n",
        "```\r\n",
        "문자열[a:b]\r\n",
        "리스트[a:b]\r\n",
        "튜플[a:b]\r\n",
        "\r\n",
        "# a는 시작 인덱스, b는 종료 인덱스\r\n",
        "```\r\n",
        "슬라이싱을 할 때는   \r\n",
        "대괄호 안에, 가져올 원소의 **시작 인덱스 : 종료 인덱스** 의 형태로 적으면 되는데   \r\n",
        "이때, **종료 인덱스는 항상 가져올 인덱스보다 1만큼 큰 값**으로 적어야 한다."
      ]
    },
    {
      "cell_type": "code",
      "metadata": {
        "colab": {
          "base_uri": "https://localhost:8080/"
        },
        "id": "9vOH9LyrVYwi",
        "outputId": "0d4c9831-65a9-402e-ada6-4c8346385e71"
      },
      "source": [
        "number = [0, 1, 2, 3, 4, 5, 6, 7, 8, 9, 10]\r\n",
        "print(number[1:6])"
      ],
      "execution_count": 21,
      "outputs": [
        {
          "output_type": "stream",
          "text": [
            "[1, 2, 3, 4, 5]\n"
          ],
          "name": "stdout"
        }
      ]
    },
    {
      "cell_type": "markdown",
      "metadata": {
        "id": "Ffs_VMMiWxkB"
      },
      "source": [
        "슬라이싱에서 종료 인덱스는 '미만'으로 읽어 해당 값을 가져오지 않는다.\r\n",
        "\r\n",
        "그래서 위와 같이 슬라이싱 범위를 [1:6]으로 지정했을 때,   \r\n",
        "인덱스 1인 1부터 인덱스 6 미만인 5까지의 값만을 불러온 것.\r\n",
        "\r\n",
        "즉, [1:6] 은 인덱스 1 이상, 인덱스 6 미만"
      ]
    },
    {
      "cell_type": "code",
      "metadata": {
        "colab": {
          "base_uri": "https://localhost:8080/"
        },
        "id": "JRpwhglgXaR_",
        "outputId": "fc781cc3-42e7-4439-a5a6-31b437fb8103"
      },
      "source": [
        "number = [0, 1, 2, 3, 4, 5, 6, 7, 8, 9, 10]\r\n",
        "print(number[:4])\r\n",
        "print(number[5:])"
      ],
      "execution_count": 22,
      "outputs": [
        {
          "output_type": "stream",
          "text": [
            "[0, 1, 2, 3]\n",
            "[5, 6, 7, 8, 9, 10]\n"
          ],
          "name": "stdout"
        }
      ]
    },
    {
      "cell_type": "markdown",
      "metadata": {
        "id": "G-hQVAkiXxcf"
      },
      "source": [
        "중첩된 리스트에서 슬라이싱을 할 때도 인덱싱 하는 법과 같다."
      ]
    },
    {
      "cell_type": "code",
      "metadata": {
        "colab": {
          "base_uri": "https://localhost:8080/"
        },
        "id": "KoeM6Xg7XSN3",
        "outputId": "cd9991fe-af96-4fcf-9791-71bf5b140243"
      },
      "source": [
        "word = [1, 2, 3, ['A', 'B', 'C', ['a', 'b', 'c']]]\r\n",
        "word[3:]"
      ],
      "execution_count": 33,
      "outputs": [
        {
          "output_type": "execute_result",
          "data": {
            "text/plain": [
              "[['A', 'B', 'C', ['a', 'b', 'c']]]"
            ]
          },
          "metadata": {
            "tags": []
          },
          "execution_count": 33
        }
      ]
    },
    {
      "cell_type": "code",
      "metadata": {
        "colab": {
          "base_uri": "https://localhost:8080/"
        },
        "id": "_xcZyhj7YQKg",
        "outputId": "8df0a9ac-23d2-43e3-a769-6f57cd0c96f5"
      },
      "source": [
        "word = [1, 2, 3, ['A', 'B', 'C', ['a', 'b', 'c']]]\r\n",
        "word[3][:2]"
      ],
      "execution_count": 30,
      "outputs": [
        {
          "output_type": "execute_result",
          "data": {
            "text/plain": [
              "['A', 'B']"
            ]
          },
          "metadata": {
            "tags": []
          },
          "execution_count": 30
        }
      ]
    }
  ]
}