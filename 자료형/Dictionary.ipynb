{
  "nbformat": 4,
  "nbformat_minor": 0,
  "metadata": {
    "colab": {
      "name": "Dictionary.ipynb",
      "provenance": [],
      "collapsed_sections": []
    },
    "kernelspec": {
      "name": "python3",
      "display_name": "Python 3"
    }
  },
  "cells": [
    {
      "cell_type": "markdown",
      "metadata": {
        "id": "Wd54jyJu2CFW"
      },
      "source": [
        "## 딕셔너리 (Dictionary)\r\n",
        "\r\n",
        "이름 : 파이썬, apple = 사과 등과 같이 파이썬에도 이러한 대응 관계를 나타낼 수 있는 자료형이 있다.   \r\n",
        "이를 **딕셔너리(Dictionary)**라고 한다.\r\n",
        "\r\n",
        "딕셔너리는 중괄호{ }로 묶어서 표현한다.   \r\n",
        "딕셔너리 안에는 짝을 이루는 자료를 한 쌍 또는 여러 쌍 넣을 수 있는데, 여러 쌍을 넣을 때는 쉼표(,)로 구분한다.   \r\n",
        "빈 중괄호만 써서 비어 있는 딕셔너리를 만들 수도 있다.\r\n",
        "\r\n",
        "```\r\n",
        "{key1:value1, key2:value2, ...}\r\n",
        "```\r\n",
        "\r\n",
        "딕셔너리의 기본형을 보면   \r\n",
        "중괄호 안에 콜론(:)과 양 옆의 두 요소로 이루어진 자료 한 쌍이 있다.   \r\n",
        "이 두 요소를 각각 Key와 Value라고 한다.   \r\n",
        "콜론(:)을 기준으로 왼쪽이 Key, 오른쪽이 Value이다.\r\n",
        "\r\n",
        "딕셔너리는 Key와 Value를 한 쌍으로 갖는 자료형이다.   \r\n",
        "예를 들어 Key가 \"apple\"이라면 Value는 \"사과\"가 될 것이다.\r\n",
        "\r\n",
        "> Key에는 변하지 않는 값을 사용하고,   \r\n",
        "Value에는 변하는 값과 변하지 않는 값을 모두 사용할 수 있다.\r\n"
      ]
    },
    {
      "cell_type": "markdown",
      "metadata": {
        "id": "xXofCL6C4QhA"
      },
      "source": [
        "**1. Key**\r\n",
        "\r\n",
        "콜론(:)을 기준으로 왼쪽에 있는 Key는 딕셔너리에서 열쇠에 해당하고   \r\n",
        "이 Key를 이용해 딕셔너리의 자료를 꺼내거나 추가, 삭제할 수 있다."
      ]
    },
    {
      "cell_type": "code",
      "metadata": {
        "id": "7967Vt8g6L-h"
      },
      "source": [
        "dic = {'apple':'사과', 'banana':'바나나'}\r\n",
        "# key : 'apple', 'banana'"
      ],
      "execution_count": 1,
      "outputs": []
    },
    {
      "cell_type": "markdown",
      "metadata": {
        "id": "liDvulOi6sHj"
      },
      "source": [
        "**2. Value**\r\n",
        "\r\n",
        "콜론(:)을 기준으로 오른쪽에 있는 Value는 Key로 꺼낼 수 있는 자료의 값이다.   \r\n",
        "'값'을 뜻하는 영어 Value에서 그 이름을 따온 것이다."
      ]
    },
    {
      "cell_type": "code",
      "metadata": {
        "id": "7BtceY0y66px"
      },
      "source": [
        "dic = {'apple':'사과', 'banana':'바나나'}\r\n",
        "# value : '사과', '바나나'"
      ],
      "execution_count": null,
      "outputs": []
    },
    {
      "cell_type": "markdown",
      "metadata": {
        "id": "dZddBC0E7H0F"
      },
      "source": [
        "####**딕셔너리의 자료 꺼내기**\r\n",
        "\r\n",
        "딕셔너리의 가장 큰 특징은 Key를 알면 Value를 알 수 있다는 것이다.   \r\n",
        "예를 들어 딕셔너리에 'apple'이라는 key가 있다는 것을 알면, 'apple'의 Value인 '사과'를 가져올 수 있다.\r\n",
        "\r\n",
        "딕셔너리에서 자료를 꺼내는 방법은 인덱싱과 비슷하다.   \r\n",
        "```\r\n",
        "딕셔너리[Key]\r\n",
        "```\r\n",
        "딕셔너리 이름을 쓰고 대괄호[ ] 안에 Key를 적으면 Value를 가져온다.\r\n",
        "\r\n"
      ]
    },
    {
      "cell_type": "code",
      "metadata": {
        "colab": {
          "base_uri": "https://localhost:8080/"
        },
        "id": "BnX3Q8B_9zxI",
        "outputId": "f78e1611-1ebe-48be-8c72-63e1b500df0a"
      },
      "source": [
        "dic = {'apple':'사과', 'banana':'바나나'}\r\n",
        "print(dic['banana'])"
      ],
      "execution_count": 3,
      "outputs": [
        {
          "output_type": "stream",
          "text": [
            "바나나\n"
          ],
          "name": "stdout"
        }
      ]
    },
    {
      "cell_type": "markdown",
      "metadata": {
        "id": "kzoMcbHo-Aiu"
      },
      "source": [
        "#### **딕셔너리에 자료 추가하기**\r\n",
        "\r\n",
        "딕셔너리에 자료를 추가할 수도 있다.\r\n",
        "```\r\n",
        "딕셔너리[Key] = Value\r\n",
        "```\r\n",
        "\r\n",
        "대괄호[ ] 안에 추가할 자료의 Key를 적은 후   \r\n",
        "등호(=) 뒤에 해당 Key와 짝을 이룰 Value를 넣으면 딕셔너리의 마지막 자료로 추가된다."
      ]
    },
    {
      "cell_type": "code",
      "metadata": {
        "colab": {
          "base_uri": "https://localhost:8080/"
        },
        "id": "zZQqoP0s-wk2",
        "outputId": "899a867e-ab1b-44e2-cef8-26c01a6717e6"
      },
      "source": [
        "fruit = {1 :'사과'}\r\n",
        "fruit[2] = '바나나'     # 2 : 추가할 Key, '바나나' : 추가할 Value\r\n",
        "\r\n",
        "print(fruit)"
      ],
      "execution_count": 6,
      "outputs": [
        {
          "output_type": "stream",
          "text": [
            "{1: '사과', 2: '바나나'}\n"
          ],
          "name": "stdout"
        }
      ]
    },
    {
      "cell_type": "markdown",
      "metadata": {
        "id": "P_Omm-mN--59"
      },
      "source": [
        "#### **딕셔너리의 자료 삭제하기**\r\n",
        "\r\n",
        "딕셔너리의 자료를 삭제할 수도 있다.   \r\n",
        "삭제할 땐 `del` 이라는 함수를 사용하는데, 여기서 del 은 delete 의 줄임말이다.\r\n",
        "\r\n",
        "```\r\n",
        "del 딕셔너리[Key]\r\n",
        "```\r\n",
        "\r\n",
        "먼저 `del`을 적은 후 한 칸을 띄고 딕셔너리의 이름과 함께 대괄호 [ ] 안에 삭제할 Key를 적으면   \r\n",
        "짝을 이루는 Value가 함께 삭제된다."
      ]
    },
    {
      "cell_type": "code",
      "metadata": {
        "colab": {
          "base_uri": "https://localhost:8080/"
        },
        "id": "1vezSQ77_9hq",
        "outputId": "68dce998-508f-44bb-8dc4-653c6b510c1b"
      },
      "source": [
        "zoo = {'A':'사자', 'B':'호랑이', 'C':['토끼', '다람쥐']}    # 'C'의 예처럼 Value에 리스트를 넣을 수도 있다.\r\n",
        "\r\n",
        "del zoo['B']\r\n",
        "print(zoo)"
      ],
      "execution_count": 12,
      "outputs": [
        {
          "output_type": "stream",
          "text": [
            "{'A': '사자', 'C': ['토끼', '다람쥐']}\n"
          ],
          "name": "stdout"
        }
      ]
    },
    {
      "cell_type": "markdown",
      "metadata": {
        "id": "TwceDlDkC5_J"
      },
      "source": [
        "#### 코딩 문제\r\n",
        "**첫 파이썬** [5분 코딩 37] 과일 사전 만들기\r\n",
        "\r\n",
        "\r\n"
      ]
    },
    {
      "cell_type": "code",
      "metadata": {
        "id": "TTFqFOmeDGi1"
      },
      "source": [
        "# '사과'와 'apple', '바나나’와 'banana', '당근'과 'carrot'을 짝을 지어 넣어 주세요\r\n",
        "my_dict = {'사과':'apple', '바나나':'banana', '당근':'carrot'}\r\n",
        "\r\n",
        "# 사과를 영어로 뭐라고 하는지 my_dict에서 찾아 저장해요\r\n",
        "my_var = my_dict['사과']\r\n",
        "\r\n",
        "# 당근은 싫어요! my_dict에서 당근-carrot을 찾아 삭제하세요\r\n",
        "del my_dict['당근']\r\n",
        "\r\n",
        "# 체리는 좋아요! my_dict에 체리-cherry를 추가해요\r\n",
        "my_dict['체리'] = 'cherry'"
      ],
      "execution_count": null,
      "outputs": []
    }
  ]
}