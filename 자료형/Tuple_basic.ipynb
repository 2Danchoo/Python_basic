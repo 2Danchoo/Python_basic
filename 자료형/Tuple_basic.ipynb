{
  "nbformat": 4,
  "nbformat_minor": 0,
  "metadata": {
    "colab": {
      "name": "Tuple_basic.ipynb",
      "provenance": [],
      "collapsed_sections": []
    },
    "kernelspec": {
      "name": "python3",
      "display_name": "Python 3"
    }
  },
  "cells": [
    {
      "cell_type": "markdown",
      "metadata": {
        "id": "rDhJnp7IV6jK"
      },
      "source": [
        "##Tuple\r\n",
        "\r\n",
        "리스트는 값을 수정, 추가, 삭제하기 쉬운 자료형이다.   \r\n",
        "그래서 저장한 값을 누구든 쉽게 바꿀 수 있지만 이것이 단점이 될 수도 있다.\r\n",
        "\r\n",
        "이때 사용하는 것이 바로 튜플이다.   \r\n",
        "몇 가지 점을 제외하고는 리스트와 거의 비슷하다.\r\n",
        "\r\n",
        "**튜플(Tuple)**은 리스트처럼 값이 바뀔 위험이 없으면서도 여러 자료를 담을 수 있는 자료형이면서   \r\n",
        "원소의 값을 수정, 추가, 삭제할 수 없다. "
      ]
    },
    {
      "cell_type": "markdown",
      "metadata": {
        "id": "5yLfXY3ky-a9"
      },
      "source": [
        "#### 튜플의 특징\r\n",
        "\r\n",
        "리스트를 대괄호 []로 표현했다면, 튜플은 소괄호 ()를 사용한다.   \r\n",
        "\r\n",
        "튜플의 원소는 리스트처럼 쉼표(,)로 구분하는데,   \r\n",
        "원소가 하나 밖에 없어도 쉼표(,)를 반드시 적어야 한다.\r\n",
        "\r\n",
        "그리고 소괄호()로 묶지 않고 괄호()를 생략해도 파이썬에서는 이를 튜플로 인식한다.\r\n",
        "\r\n",
        "튜플과 리스트는 비슷한 역할을 하지만   \r\n",
        "튜플과 리스트의 가장 큰 차이는 값을 변화시킬 수 있는가 여부이다. \r\n",
        "\r\n",
        "즉 리스트의 항목 값은 변화가 가능하고   \r\n",
        "튜플의 항목 값은 변화가 불가능하다.\r\n",
        "\r\n",
        "```\r\n",
        "() 　# 빈 튜플\r\n",
        "('a',) 　# 원소가 하나만 있어도 쉼표는 꼭 적어야 한다.\r\n",
        "('a', 'b', 'c', 'd') 　# 소괄호로 묶기\r\n",
        "'a', 'b', 'c', 'd' 　# 소괄호가 없어도 튜플로 인식\r\n",
        "```\r\n",
        "\r\n"
      ]
    },
    {
      "cell_type": "markdown",
      "metadata": {
        "id": "QKEMrdcN71Cl"
      },
      "source": [
        "**특징 1. 인덱싱, 슬라이싱을 할 수 있다.**\r\n",
        "\r\n",
        "튜플 역시 원소의 순서가 있는 시퀀스 자료형이므로,   \r\n",
        "인덱싱과 슬라이싱을 할 수 있다."
      ]
    },
    {
      "cell_type": "code",
      "metadata": {
        "colab": {
          "base_uri": "https://localhost:8080/"
        },
        "id": "zqIV8oL3V2IQ",
        "outputId": "f8f5e7da-d73e-4a94-f59e-2be1e13ec44a"
      },
      "source": [
        "my_tuple = ('p', 'y', 't', 'h', 'o', 'n')\r\n",
        "print(my_tuple[0])\r\n",
        "print(my_tuple[2:4])"
      ],
      "execution_count": 1,
      "outputs": [
        {
          "output_type": "stream",
          "text": [
            "p\n",
            "('t', 'h')\n"
          ],
          "name": "stdout"
        }
      ]
    },
    {
      "cell_type": "markdown",
      "metadata": {
        "id": "_Zg_etwC8C14"
      },
      "source": [
        "**특징 2. 원소를 조회하고 길이를 확인할 수 있다.**\r\n",
        "\r\n",
        "`in` 연산자로 특정 원소가 있는지 조회할 수 있고,\r\n",
        "`len()` 함수로 튜플의 길이를 확인할 수 있다."
      ]
    },
    {
      "cell_type": "code",
      "metadata": {
        "colab": {
          "base_uri": "https://localhost:8080/"
        },
        "id": "Vgcp854Q-yUn",
        "outputId": "09fd3eb1-141f-43b2-a814-fc7dbe4bc703"
      },
      "source": [
        "my_tuple = ('p', 'y', 't', 'h', 'o', 'n')\r\n",
        "print('t' in my_tuple) # 원소 조회 가능\r\n",
        "print(len(my_tuple)) # 길이 확인 가능"
      ],
      "execution_count": 2,
      "outputs": [
        {
          "output_type": "stream",
          "text": [
            "True\n",
            "6\n"
          ],
          "name": "stdout"
        }
      ]
    },
    {
      "cell_type": "markdown",
      "metadata": {
        "id": "p6uSDb9a_Dmi"
      },
      "source": [
        "**특징 3. 더하기(+), 곱하기(*)연산을 할 수 있다.**\r\n",
        "\r\n",
        "더하기 연산자(+)로 튜플을 이어 붙이고,   \r\n",
        "곱하기 연산자(*)로 튜플을 반복할 수 있다."
      ]
    },
    {
      "cell_type": "code",
      "metadata": {
        "colab": {
          "base_uri": "https://localhost:8080/"
        },
        "id": "fnQ8ECOT_SJL",
        "outputId": "4c5f758d-5406-4fa5-f92d-98d66d01fbf2"
      },
      "source": [
        "my_tuple = ('t', 'h', 'o', 'n')\r\n",
        "print(('p', 'y') + my_tuple) # 더하기 연산\r\n",
        "print(my_tuple * 2) # 곱하기 연산\r\n"
      ],
      "execution_count": 3,
      "outputs": [
        {
          "output_type": "stream",
          "text": [
            "('p', 'y', 't', 'h', 'o', 'n')\n",
            "('t', 'h', 'o', 'n', 't', 'h', 'o', 'n')\n"
          ],
          "name": "stdout"
        }
      ]
    },
    {
      "cell_type": "markdown",
      "metadata": {
        "id": "n__Me_n5ADL4"
      },
      "source": [
        "**특징 4. 원소의 수정, 추가, 삭제는 불가능하다**\r\n",
        "\r\n",
        "리스트와 튜플의 가장 중요한 차이점은   \r\n",
        "튜플에서는 자료(원소)를 수정, 추가, 삭제할 수 없다는 것이다."
      ]
    },
    {
      "cell_type": "code",
      "metadata": {
        "id": "z9uk0vX1AOsU"
      },
      "source": [
        "my_list = [1, 2, 3]\r\n",
        "\r\n",
        "my_list.append(4) # 추가 가능\r\n",
        "my_list.pop(0) # 삭제 가능\r\n",
        "my_list[2] = 3  # 수정 가능"
      ],
      "execution_count": null,
      "outputs": []
    },
    {
      "cell_type": "code",
      "metadata": {
        "id": "hXOEFzlWA8hi"
      },
      "source": [
        "my_tuple = (1, 2, 3)\r\n",
        "\r\n",
        "my_tuple.append(4) # 오류 발생\r\n",
        "my_tuple.pop() # 오류 발생\r\n",
        "my_tuple[0] = 4 # 오류 발생"
      ],
      "execution_count": null,
      "outputs": []
    }
  ]
}