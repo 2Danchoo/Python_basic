{
  "nbformat": 4,
  "nbformat_minor": 0,
  "metadata": {
    "colab": {
      "name": "while_ex.ipynb",
      "provenance": []
    },
    "kernelspec": {
      "name": "python3",
      "display_name": "Python 3"
    }
  },
  "cells": [
    {
      "cell_type": "code",
      "metadata": {
        "id": "POsbcN4GLwSP",
        "outputId": "9582c260-cbcd-43a0-ebab-031913694d83",
        "colab": {
          "base_uri": "https://localhost:8080/"
        }
      },
      "source": [
        "# input() 함수로 층수를 입력받아 저장하세요\r\n",
        "star = int(input())\r\n",
        "\r\n",
        "# 입력받은 층수의 별자리를 출력하는 코드를 완성해 보세요\r\n",
        "for i in range(star+1) :\r\n",
        "    print(\"*\"*i)\r\n"
      ],
      "execution_count": 5,
      "outputs": [
        {
          "output_type": "stream",
          "text": [
            "5\n",
            "\n",
            "*\n",
            "**\n",
            "***\n",
            "****\n",
            "*****\n"
          ],
          "name": "stdout"
        }
      ]
    },
    {
      "cell_type": "code",
      "metadata": {
        "colab": {
          "base_uri": "https://localhost:8080/"
        },
        "id": "QhAas7EDLnmH",
        "outputId": "dbd4ade1-44da-4b72-fa0d-6e7cd11298ca"
      },
      "source": [
        "# 치즈 접시가 비어 있어요\r\n",
        "cheeze = []\r\n",
        "\r\n",
        "# 치즈 접시에 문자열 '치즈'가 무한으로 추가되고, 그때마다 '치즈 추가!'를 출력해요\r\n",
        "while True:\r\n",
        "    cheeze.append('치즈')\r\n",
        "    print(\"치즈 추가!\")\r\n",
        "\r\n",
        "# cheeze 속 치즈가 10개가 되면 추가를 멈추고 '아이~ 배불러!'를 출력해요\r\n",
        "    if len(cheeze) == 10 :\r\n",
        "        break\r\n",
        "        \r\n",
        "print('아이~ 배불러!')"
      ],
      "execution_count": 4,
      "outputs": [
        {
          "output_type": "stream",
          "text": [
            "치즈 추가!\n",
            "치즈 추가!\n",
            "치즈 추가!\n",
            "치즈 추가!\n",
            "치즈 추가!\n",
            "치즈 추가!\n",
            "치즈 추가!\n",
            "치즈 추가!\n",
            "치즈 추가!\n",
            "치즈 추가!\n",
            "아이~ 배불러!\n"
          ],
          "name": "stdout"
        }
      ]
    }
  ]
}