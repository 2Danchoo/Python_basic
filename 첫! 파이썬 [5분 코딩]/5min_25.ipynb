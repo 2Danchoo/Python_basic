{
  "nbformat": 4,
  "nbformat_minor": 0,
  "metadata": {
    "colab": {
      "name": "5min_25.ipynb",
      "provenance": []
    },
    "kernelspec": {
      "name": "python3",
      "display_name": "Python 3"
    }
  },
  "cells": [
    {
      "cell_type": "markdown",
      "metadata": {
        "id": "t_BAunOCZJsF"
      },
      "source": [
        "for 문과 시퀀스, 그리고 if 문을 이용하여 문자열 mix에서 ‘쌀’의 개수만 세어 보세요."
      ]
    },
    {
      "cell_type": "code",
      "metadata": {
        "id": "VybW7k0vZPFs"
      },
      "source": [
        "# '쌀'과 '씰'이 섞여 있어요\r\n",
        "mix = '쌀씰쌀쌀씰쌀씰쌀씰쌀쌀씰쌀씰쌀씰쌀쌀씰쌀씰쌀씰쌀쌀씰쌀씰쌀씰쌀씰쌀씰쌀쌀씰쌀씰쌀씰쌀쌀씰쌀씰쌀씰쌀쌀씰쌀씰'\r\n",
        "\r\n",
        "# '쌀'을 세어 저장할 변수 count를 만들고 0을 저장해요\r\n",
        "count = 0\r\n",
        "\r\n",
        "# i가 '쌀'인지 '씰'인지 확인하고, '쌀'이면 count에 1을 더하여 다시 count에 저장하세요"
      ],
      "execution_count": null,
      "outputs": []
    },
    {
      "cell_type": "code",
      "metadata": {
        "colab": {
          "base_uri": "https://localhost:8080/"
        },
        "id": "-26yDGxPZTP0",
        "outputId": "6d1e637a-bbaf-4c60-9e5d-891835b7a317"
      },
      "source": [
        "# '쌀'과 '씰'이 섞여 있어요\r\n",
        "mix = '쌀씰쌀쌀씰쌀씰쌀씰쌀쌀씰쌀씰쌀씰쌀쌀씰쌀씰쌀씰쌀쌀씰쌀씰쌀씰쌀씰쌀씰쌀쌀씰쌀씰쌀씰쌀쌀씰쌀씰쌀씰쌀쌀씰쌀씰'\r\n",
        "\r\n",
        "# '쌀'을 세어 저장할 변수 count를 만들고 0을 저장해요\r\n",
        "count = 0\r\n",
        "\r\n",
        "# i가 '쌀'인지 '씰'인지 확인하고, '쌀'이면 count에 1을 더하여 다시 count에 저장하세요\r\n",
        "for i in mix :\r\n",
        "    if i == '쌀' :\r\n",
        "        count = count + 1\r\n",
        "    else :          # else는 사실 안 적어도 된다.\r\n",
        "        pass\r\n",
        "    \r\n",
        "# 쌀의 개수를 출력해 확인해요\r\n",
        "print(count)"
      ],
      "execution_count": 2,
      "outputs": [
        {
          "output_type": "stream",
          "text": [
            "30\n"
          ],
          "name": "stdout"
        }
      ]
    }
  ]
}