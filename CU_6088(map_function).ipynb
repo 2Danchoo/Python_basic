{
  "nbformat": 4,
  "nbformat_minor": 0,
  "metadata": {
    "colab": {
      "name": "CU_6088(map_function).ipynb",
      "provenance": [],
      "collapsed_sections": [],
      "authorship_tag": "ABX9TyPwL143oyIA6ube3cRNvDFc"
    },
    "kernelspec": {
      "name": "python3",
      "display_name": "Python 3"
    },
    "language_info": {
      "name": "python"
    }
  },
  "cells": [
    {
      "cell_type": "markdown",
      "metadata": {
        "id": "E1H4pXgadh13"
      },
      "source": [
        "**CodeUp**\n",
        "# [6088 : [기초-종합] 수 나열하기1](https://codeup.kr/problem.php?id=6088)\n",
        "<hr/><br>\n",
        "\n",
        "어떤 규칙에 따라 수를 순서대로 나열한 것을 수열(sequences)이라고 한다.\n",
        "\n",
        "예를 들어   \n",
        "1 4 7 10 13 16 19 22 25 ... 은   \n",
        "1부터 시작해 이전에 만든 수에 3을 더해 다음 수를 만든 수열이다.   \n",
        "\n",
        "이러한 것을 수학에서는 앞뒤 수들의 차이가 같다고 하여\n",
        "등차(차이가 같다의 한문 말) 수열이라고 한다.    \n",
        "(등차수열 : arithmetic progression/sequence)   \n",
        "\n",
        "수열을 알게 된 영일이는 갑자기 궁금해졌다.\n",
        "\n",
        "\"그럼.... 123번째 나오는 수는 뭘까?\"\n",
        "\n",
        "영일이는 프로그램을 만들어 더 큰 수도 자동으로 계산하고 싶어졌다.\n",
        "\n",
        "시작 값(a), 등차(d), 몇 번째인지를 나타내는 정수(n)가 입력될 때,   \n",
        "n번째 수를 출력하는 프로그램을 만들어보자.\n",
        "\n",
        "<br><hr/>\n",
        "\n",
        "입력 : 시작 값(a), 등차의 값(d), 몇 번째 수 인지를 의미하는 정수(n)가\n",
        "공백을 두고 입력된다.(모두 0 ~ 100) \n",
        "\n",
        " <br>\n",
        "\n",
        "출력 : n번째 수를 출력한다.\n",
        "\n",
        "<hr/>\n",
        "\n",
        "입력 예시 : 1 3 5\n",
        "\n",
        "출력 예시 : 13 (1, 4, 7, 10, 13 … , 5번째 오는 숫자)\n",
        "\n"
      ]
    },
    {
      "cell_type": "code",
      "metadata": {
        "id": "XSvvxcWf0q9g"
      },
      "source": [
        ""
      ],
      "execution_count": null,
      "outputs": []
    },
    {
      "cell_type": "markdown",
      "metadata": {
        "id": "scepyKNTPZtn"
      },
      "source": [
        "## Soluton"
      ]
    },
    {
      "cell_type": "code",
      "metadata": {
        "colab": {
          "base_uri": "https://localhost:8080/"
        },
        "id": "px2FOLexzEQO",
        "outputId": "7c01c055-9ce9-44ff-ede5-4ab3859d70c0"
      },
      "source": [
        "a,d,n = map(int,input().split())\n",
        "total = a\n",
        "for i in range(0, n-1):\n",
        "    total += d  # total = total + d\n",
        "\n",
        "print(total)"
      ],
      "execution_count": 2,
      "outputs": [
        {
          "output_type": "stream",
          "text": [
            "1 3 5\n",
            "13\n"
          ],
          "name": "stdout"
        }
      ]
    },
    {
      "cell_type": "code",
      "metadata": {
        "colab": {
          "base_uri": "https://localhost:8080/"
        },
        "id": "GcJOw3qvV8PQ",
        "outputId": "4b7d3f3b-6dc5-413a-8c7f-291ab5174a17"
      },
      "source": [
        "a, b, c = map(int,input().split())\n",
        "num = 1\n",
        "s = 1\n",
        "\n",
        "while True :\n",
        "    num += b\n",
        "    s += 1\n",
        "    if s == c :\n",
        "        print(num) ; break"
      ],
      "execution_count": null,
      "outputs": [
        {
          "output_type": "stream",
          "text": [
            "1 3 5\n",
            "13\n"
          ],
          "name": "stdout"
        }
      ]
    },
    {
      "cell_type": "markdown",
      "metadata": {
        "id": "Roc0AWLdWPJ5"
      },
      "source": [
        "## Python Syntax"
      ]
    },
    {
      "cell_type": "markdown",
      "metadata": {
        "id": "aP7kL2Hi1gKM"
      },
      "source": [
        "### **split()**\n",
        "\n",
        "Returns a list of substrings in the string\n",
        "\n",
        "**Using split() method :**\n",
        "\n",
        "This function helps in getting a multiple inputs from user. It breaks the given input by the specified separator.   \n",
        "If a separator is not provided then any white space is a separator.    \n",
        "Generally, user use a split() method to split a Python string but one can use it in taking multiple input.\n",
        "\n",
        "```\n",
        "input().split(separator, maxsplit)\n",
        "```\n",
        "<hr>\n",
        "\n",
        "`split` 함수를 사용하면 **공백(기본값) 또는 특정 문자를 기준으로 문자열을 분리**할 수 있다.   \n",
        "separator(구분자)가 따로 주어지지 않는다면 공백(White space)이 기본값이다.   \n",
        "일반적으로 `split()` 함수는 문자열을 분할할 때 사용하지만, 여러 input값을 받고 싶을 때 사용할 수도 있다.\n",
        "\n",
        "separator : 문자열을 나눌 때 그 기준으로 사용할 문자. 기본값은 white space (공백)   \n",
        "maxsplit : 문자열을 나눌 횟수. 기본값은 -1이며, 횟수의 제한 없이 나눌 수 있는 문자열을 모두 나눈다는 의미 \n",
        "\n"
      ]
    },
    {
      "cell_type": "markdown",
      "metadata": {
        "id": "WuQg64jUWhKe"
      },
      "source": [
        "### `split()` Code example\n",
        "\n",
        "\n",
        "\n",
        "\n"
      ]
    },
    {
      "cell_type": "code",
      "metadata": {
        "colab": {
          "base_uri": "https://localhost:8080/"
        },
        "id": "_0Zog3dBxr1_",
        "outputId": "8822b5d6-f8c9-4d65-ccd7-60ba5813d958"
      },
      "source": [
        "a = input().split(':')\n",
        "print(a)"
      ],
      "execution_count": null,
      "outputs": [
        {
          "output_type": "stream",
          "text": [
            "3:15\n",
            "['3', '15']\n"
          ],
          "name": "stdout"
        }
      ]
    },
    {
      "cell_type": "markdown",
      "metadata": {
        "id": "hO3FggRomvTC"
      },
      "source": [
        "입력값에 3:15 를 넣어주면 콜론(:)을 기준으로 3과 15가 변수 a에 분리 되어 저장되며 나누어진 각각의 값은 리스트로 출력된다.\n",
        "\n",
        "이때 입력값을 int형으로 받기 원한다면 `map()` 함수를 사용하면 된다.   \n",
        "\n",
        "```\n",
        "a = list(map(int,input().split()))\n",
        "```\n"
      ]
    },
    {
      "cell_type": "code",
      "metadata": {
        "colab": {
          "base_uri": "https://localhost:8080/"
        },
        "id": "nANy2mKhnczJ",
        "outputId": "90649a14-2240-472f-9d92-bb8ae3f2e678"
      },
      "source": [
        "a, b = input().split(':')\n",
        "print(a)\n",
        "print(b)"
      ],
      "execution_count": null,
      "outputs": [
        {
          "output_type": "stream",
          "text": [
            "3:15\n",
            "3\n",
            "15\n"
          ],
          "name": "stdout"
        }
      ]
    },
    {
      "cell_type": "markdown",
      "metadata": {
        "id": "y06ZAhrNnmjt"
      },
      "source": [
        "여러 변수에 각각 입력값을 담아줄 수도 있다."
      ]
    },
    {
      "cell_type": "code",
      "metadata": {
        "colab": {
          "base_uri": "https://localhost:8080/"
        },
        "id": "OseEZH1bVwq8",
        "outputId": "af42a275-7fdb-4241-ae7f-e1baf461026e"
      },
      "source": [
        "a, b, c = input().split('-')\n",
        "print(a)\n",
        "print(b)\n",
        "print(c)"
      ],
      "execution_count": null,
      "outputs": [
        {
          "output_type": "stream",
          "text": [
            "input-split-map\n",
            "input\n",
            "split\n",
            "map\n"
          ],
          "name": "stdout"
        }
      ]
    },
    {
      "cell_type": "markdown",
      "metadata": {
        "id": "kUR6TIhSfyUb"
      },
      "source": [
        "<hr>"
      ]
    },
    {
      "cell_type": "markdown",
      "metadata": {
        "id": "0apYP6w_fETK"
      },
      "source": [
        "### **map() function**\n",
        "\n",
        "The map() function applies a given function to each item of an iterable (list, tuple etc.) and returns a list of the results.\n",
        "\n",
        "> Python’s **`map()`** is a built-in function that allows you to process and transform all the items in an iterable without using an explicit `for` loop, a technique commonly known as mapping. `map()` is useful when you need to apply a transformation function to each item in an iterable and transform them into a new iterable. `map()` is one of the tools that support a functional programming style in Python.\n",
        "\n",
        "\n",
        "\n",
        "The syntax of map() is:\n",
        "```\n",
        "map(function, iterable[, iterable1, iterable2,..., iterableN])\n",
        "```\n",
        "\n",
        "map() Parameter\n",
        "* function : It is a function to which map passes each element of given iterable.\n",
        "* iterable : It is a iterable which is to be mapped.\n",
        "\n",
        "You can pass more than one `iterable` to the `map()` function.\n",
        "\n",
        "<hr>\n"
      ]
    },
    {
      "cell_type": "markdown",
      "metadata": {
        "id": "3tclJLilfiRT"
      },
      "source": [
        "## Reference\n",
        "\n",
        "Python's map() - Processing Iterables Without a Loop : https://realpython.com/python-map-function/   \n",
        "Python map() : https://www.programiz.com/python-programming/methods/built-in/map\n",
        "\n"
      ]
    }
  ]
}