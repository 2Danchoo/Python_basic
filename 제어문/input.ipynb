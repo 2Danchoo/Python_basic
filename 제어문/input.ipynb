{
  "nbformat": 4,
  "nbformat_minor": 0,
  "metadata": {
    "colab": {
      "name": "input.ipynb",
      "provenance": [],
      "collapsed_sections": []
    },
    "kernelspec": {
      "name": "python3",
      "display_name": "Python 3"
    }
  },
  "cells": [
    {
      "cell_type": "markdown",
      "metadata": {
        "id": "Qe7DnHYG93d2"
      },
      "source": [
        "##**input()**\r\n",
        "\r\n",
        "파이썬 언어로 컴퓨터에 무언가를 입력하고 싶을 때는 먼저 input() 함수를 실행해야 한다.\r\n",
        "\r\n",
        "> 기본형 : 변수 이름 = input() <br>\r\n",
        "  예 : var = input() *# 입력한 자료를 변수 var에 저장한다*\r\n",
        "\r\n",
        "> 입력 : variable = input() <br>\r\n",
        "  출력 : print(variable) <br>\r\n",
        "\r\n",
        "사용자가 컴퓨터에 자료를 입력하면 그 내용이 컴퓨터에 전달되고, <br>\r\n",
        "컴퓨터는 사용자가 입력한 값을 어딘가에 저장해야 하는데 이때 변수를 사용한다."
      ]
    },
    {
      "cell_type": "code",
      "metadata": {
        "colab": {
          "base_uri": "https://localhost:8080/"
        },
        "id": "d4z-LAR9B1qf",
        "outputId": "6d55f33e-7f30-4c96-bae9-758217f6ac68"
      },
      "source": [
        "var = input()\r\n",
        "print(var)"
      ],
      "execution_count": 1,
      "outputs": [
        {
          "output_type": "stream",
          "text": [
            "Hello world!\n",
            "Hello world!\n"
          ],
          "name": "stdout"
        }
      ]
    },
    {
      "cell_type": "code",
      "metadata": {
        "colab": {
          "base_uri": "https://localhost:8080/"
        },
        "id": "bal6mPMJDKTf",
        "outputId": "9c9f7d16-16f7-4b04-afb8-f73697969829"
      },
      "source": [
        "variable = input()\r\n",
        "print('입력값 : ',variable)"
      ],
      "execution_count": 2,
      "outputs": [
        {
          "output_type": "stream",
          "text": [
            "Hello world!\n",
            "입력값 :  Hello world!\n"
          ],
          "name": "stdout"
        }
      ]
    },
    {
      "cell_type": "markdown",
      "metadata": {
        "id": "n0ZO1ZBxDixi"
      },
      "source": [
        "input() 함수의 중요한 특징 중 하나는 <br>\r\n",
        "input() 함수로 입력 받은 값을 모두 문자열로 받아들인다는 것이다.\r\n",
        "\r\n",
        "예를 들어, input()에 숫자 7을 입력해도 <br>\r\n",
        "이를 숫자 7이 아닌 문자열 '7'로 인식한다는 것.\r\n",
        "\r\n",
        "---"
      ]
    }
  ]
}