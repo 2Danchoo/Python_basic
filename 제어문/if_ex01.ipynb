{
  "nbformat": 4,
  "nbformat_minor": 0,
  "metadata": {
    "colab": {
      "name": "if_ex01.ipynb",
      "provenance": [],
      "collapsed_sections": []
    },
    "kernelspec": {
      "name": "python3",
      "display_name": "Python 3"
    }
  },
  "cells": [
    {
      "cell_type": "markdown",
      "metadata": {
        "id": "rhAXjFxAW9gr"
      },
      "source": [
        "**조건문  : if문**\r\n",
        "\r\n",
        "if문은 조건이 포함된 구문, \r\n",
        "\r\n",
        "어떤 조건을 만족할 때 원하는 코드를 실행하기 위해 사용"
      ]
    },
    {
      "cell_type": "markdown",
      "metadata": {
        "id": "GBPJNBrYuasH"
      },
      "source": [
        ""
      ]
    },
    {
      "cell_type": "markdown",
      "metadata": {
        "id": "tLiLzpfVPj4W"
      },
      "source": [
        "# 1. 조건이 참인 경우만 실행"
      ]
    },
    {
      "cell_type": "markdown",
      "metadata": {
        "id": "vXWqm63uP-X0"
      },
      "source": [
        "### 1. 조건이 참인 경우에만 실행하기\r\n",
        "\r\n",
        "\r\n",
        "\r\n",
        "*   조건이 참인 경우에만 실행할 때 **if조건문** 사용\r\n",
        "*   if 조건문 바로 아래 문장부터 실행할 명령들은 모두 들여쓰기 (대부분의 경우 4칸 들여쓰기)\r\n",
        "*   if 조건문 뒤에는 반드시 콜론(:)이 붙는다. (파이썬의 문법 구조) → 콜론(:)을 사용하여 들여쓰기(identation)하는 것\r\n",
        "*   들여쓰기가 끝나면 조건문 종료"
      ]
    },
    {
      "cell_type": "code",
      "metadata": {
        "colab": {
          "base_uri": "https://localhost:8080/"
        },
        "id": "sfxrj2oKP545",
        "outputId": "a1b67413-3c8c-44c0-92bd-002f334c4c69"
      },
      "source": [
        "a = 'snowing'\r\n",
        "if a == 'snowing' :\r\n",
        "    print('전국적으로 폭설이 예상됩니다')\r\n",
        "    print('결빙사고가 예상되니 주의 바랍니다')"
      ],
      "execution_count": 2,
      "outputs": [
        {
          "output_type": "stream",
          "text": [
            "전국적으로 폭설이 예상됩니다\n",
            "결빙사고가 예상되니 주의 바랍니다\n"
          ],
          "name": "stdout"
        }
      ]
    },
    {
      "cell_type": "code",
      "metadata": {
        "colab": {
          "base_uri": "https://localhost:8080/"
        },
        "id": "bGBeB6H-Rryz",
        "outputId": "f1e38d52-16f9-4003-fd6e-bcf861a44117"
      },
      "source": [
        "snowing = True\r\n",
        "if snowing :\r\n",
        "    print('전국적으로 폭설이 예상됩니다')\r\n",
        "    print('결빙사고가 예상되니 주의 바랍니다')"
      ],
      "execution_count": 4,
      "outputs": [
        {
          "output_type": "stream",
          "text": [
            "전국적으로 폭설이 예상됩니다\n",
            "결빙사고가 예상되니 주의 바랍니다\n"
          ],
          "name": "stdout"
        }
      ]
    },
    {
      "cell_type": "code",
      "metadata": {
        "colab": {
          "base_uri": "https://localhost:8080/"
        },
        "id": "aWYwFfCvSCoS",
        "outputId": "201fab86-acf6-48d5-ec6a-7e0e21adebf2"
      },
      "source": [
        "a = 'raining'\r\n",
        "if a == 'snowing' :\r\n",
        "    print('전국적으로 폭설이 예상됩니다')\r\n",
        "    print('결빙사고가 예상되니 주의 바랍니다')\r\n",
        "\r\n",
        "print('오늘 눈이 올까요?') # 이 줄은 if문에 포함되지 않으므로 실행됨"
      ],
      "execution_count": 6,
      "outputs": [
        {
          "output_type": "stream",
          "text": [
            "오늘 눈이 올까요?\n"
          ],
          "name": "stdout"
        }
      ]
    },
    {
      "cell_type": "markdown",
      "metadata": {
        "id": "_A-oOzfeTI4E"
      },
      "source": [
        "### 2. if문에서 자료형의 참과 거짓\r\n",
        "\r\n",
        "파이썬에 있는 모든 자료형은 참과 거짓을 나타낼 수 있다.\r\n",
        "즉, if문에 쓰이는 조건에 참과 거짓을 표현하는 것처럼 사용할 수 있다는 것\r\n",
        "\r\n",
        "* 숫자형 : 0은 거짓, 그 외의 숫자는 참\r\n",
        "* 문자열 : 빈 문자열은 거짓, 빈 문자열이 아닌 문자열은 참\r\n",
        "* 리스트 : 빈 리스트는 거짓, 빈 리스트가 아닌 리스트는 참\r\n",
        "* 컬렉션 : {}. [], () 만 거짓\r\n",
        "* None : 거짓"
      ]
    },
    {
      "cell_type": "code",
      "metadata": {
        "colab": {
          "base_uri": "https://localhost:8080/"
        },
        "id": "btyP378PVy6k",
        "outputId": "393e139a-2899-45ab-bede-fa4e09558190"
      },
      "source": [
        "n = 0\r\n",
        "if not n :\r\n",
        "    print('조건문에서 0은 거짓')\r\n",
        "\r\n",
        "n = 1\r\n",
        "if n :\r\n",
        "    print('조건문에서 1은 \"참\"')\r\n",
        "\r\n",
        "string = ''\r\n",
        "if not string :\r\n",
        "    print('조건문에서 빈문자열은 \"거짓\"')\r\n",
        "\r\n",
        "if not None :\r\n",
        "    print('조건문에서 \"None\"은 \"거짓\"')\r\n",
        "\r\n",
        "my_tuple = ()\r\n",
        "print(type(my_tuple), my_tuple)\r\n",
        "if not my_tuple :\r\n",
        "    print('조건문에서 원소가 없는 \"tuple\"은 \"거짓\"')\r\n",
        "\r\n",
        "my_list = []\r\n",
        "print(type(my_list), my_list)\r\n",
        "if not my_list :\r\n",
        "    print('조건문에서 원소가 없는 \"list\"는 \"거짓\"')\r\n",
        "\r\n",
        "my_set = set()\r\n",
        "print(type(my_set), my_set)\r\n",
        "if not my_set :\r\n",
        "    print('조건문에서 원소가 없는 \"set\"은 \"거짓\"')\r\n",
        "\r\n",
        "my_dict = {}                    # \r\n",
        "print(type(my_dict), my_dict)\r\n",
        "if my_dict :\r\n",
        "    print('출력되지 않음')\r\n",
        "if not my_dict :                # not x : x에 대해 부정. x가 참인 경우 거짓이, 거짓인 경우 참이 된다.\r\n",
        "    print('조건문에서 원소가 없는 \"dictionary\"는 \"거짓\"')\r\n",
        "\r\n",
        "\r\n"
      ],
      "execution_count": 17,
      "outputs": [
        {
          "output_type": "stream",
          "text": [
            "조건문에서 0은 거짓\n",
            "조건문에서 1은 \"참\"\n",
            "조건문에서 빈문자열은 \"거짓\"\n",
            "조건문에서 \"None\"은 \"거짓\"\n",
            "<class 'tuple'> ()\n",
            "조건문에서 원소가 없는 \"tuple\"은 \"거짓\"\n",
            "<class 'list'> []\n",
            "조건문에서 원소가 없는 \"list\"는 \"거짓\"\n",
            "<class 'set'> set()\n",
            "조건문에서 원소가 없는 \"set\"은 \"거짓\"\n",
            "<class 'dict'> {}\n",
            "조건문에서 원소가 없는 \"dictionary\"는 \"거짓\"\n"
          ],
          "name": "stdout"
        }
      ]
    },
    {
      "cell_type": "markdown",
      "metadata": {
        "id": "ZFUD5zBdn7wn"
      },
      "source": [
        "### 3. 활용편\r\n",
        "\r\n",
        "양수, 0, 음수 판단하기"
      ]
    },
    {
      "cell_type": "code",
      "metadata": {
        "colab": {
          "base_uri": "https://localhost:8080/"
        },
        "id": "WyeKo2cuWXQC",
        "outputId": "d0df6ae7-3341-4b2d-895d-cec619632f21"
      },
      "source": [
        "while True :\r\n",
        "    num = int(input('정수를 입력하세요(0은 종료)'))\r\n",
        "    if num < 0 :\r\n",
        "        print('{}은(는) 음수입니다'.format(num))\r\n",
        "    if num == 0 :\r\n",
        "        print('{}은 \"Zero\"입니다'.format(num))\r\n",
        "        break\r\n",
        "    if num > 0 :\r\n",
        "        print('{}은(는) 양수입니다.'.format(num))"
      ],
      "execution_count": 23,
      "outputs": [
        {
          "output_type": "stream",
          "text": [
            "정수를 입력하세요(0은 종료)0\n",
            "0은(는) \"Zero\"입니다\n"
          ],
          "name": "stdout"
        }
      ]
    },
    {
      "cell_type": "markdown",
      "metadata": {
        "id": "h_jIo6A2o-BQ"
      },
      "source": [
        "합격/불합격 판단"
      ]
    },
    {
      "cell_type": "code",
      "metadata": {
        "colab": {
          "base_uri": "https://localhost:8080/"
        },
        "id": "Utxf3Lt9pBJP",
        "outputId": "56d4186f-53a2-4299-dfe5-10e956a76f47"
      },
      "source": [
        "while True :\r\n",
        "    num = int(input('점수를 입력하세요(음수는 종료)')) \r\n",
        "    if num < 0 :\r\n",
        "        break\r\n",
        "\r\n",
        "    if num > 100 :\r\n",
        "        print('올바른 점수가 아닙니다. \\n0 ~ 100 사이의 점수를 입력하세요')\r\n",
        "        continue    # 반복문의 처음으로\r\n",
        "\r\n",
        "    if num < 60 :\r\n",
        "        print ('점수가 {}점이므로 \"불합격\"입니다.'.format(num))\r\n",
        "        \r\n",
        "    if num >= 60 :\r\n",
        "        print('점수가 {}점이므로 \"합격\"입니다.'.format(num))"
      ],
      "execution_count": 25,
      "outputs": [
        {
          "output_type": "stream",
          "text": [
            "점수를 입력하세요(음수는 종료)60\n",
            "점수가 60점이므로 \"합격\"입니다.\n",
            "점수를 입력하세요(음수는 종료)-30\n"
          ],
          "name": "stdout"
        }
      ]
    }
  ]
}