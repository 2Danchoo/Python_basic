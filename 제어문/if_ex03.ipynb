{
  "nbformat": 4,
  "nbformat_minor": 0,
  "metadata": {
    "colab": {
      "name": "if_ex03.ipynb",
      "provenance": [],
      "collapsed_sections": []
    },
    "kernelspec": {
      "name": "python3",
      "display_name": "Python 3"
    }
  },
  "cells": [
    {
      "cell_type": "markdown",
      "metadata": {
        "id": "MvX1iyjsjVI1"
      },
      "source": [
        "## if ~ elif 문\r\n",
        "\r\n",
        "조건이 여러 개일 때, 조건에 따라 명령을 다르게 실행하는 구문."
      ]
    },
    {
      "cell_type": "markdown",
      "metadata": {
        "id": "qzl6wKoSp_Rz"
      },
      "source": [
        "> \"주머니에 돈이 있다면 과자를 살 수 있고, 주머니에 돈은 없지만 카드는 있다면 역시 과자를 살 수 있다. <br>\r\n",
        "그러나 돈과 카드 모두 없다면 과자를 살수 없다.\" <br>\r\n",
        "이 문장을 if와 else만으로 표현하려면, 다음과 같다."
      ]
    },
    {
      "cell_type": "code",
      "metadata": {
        "colab": {
          "base_uri": "https://localhost:8080/"
        },
        "id": "gRKmqgT2qUkh",
        "outputId": "f89a64e2-e314-451e-9595-7bf0bd7d3013"
      },
      "source": [
        "pocket = ['cellphone', 'key']\r\n",
        "card = True\r\n",
        "\r\n",
        "if 'money' in pocket :\r\n",
        "    print(\"과자를 살 수 있다\")\r\n",
        "else :\r\n",
        "    if card :\r\n",
        "        print(\"과자를 살 수 있다\")\r\n",
        "    else :\r\n",
        "        print(\"과자를 살 수 없다\")"
      ],
      "execution_count": 1,
      "outputs": [
        {
          "output_type": "stream",
          "text": [
            "과자를 살 수 있다\n"
          ],
          "name": "stdout"
        }
      ]
    },
    {
      "cell_type": "code",
      "metadata": {
        "colab": {
          "base_uri": "https://localhost:8080/"
        },
        "id": "FjHiBc76quUC",
        "outputId": "04623dae-94ab-49dc-f90d-bca9ea5d25aa"
      },
      "source": [
        "pocket = ['cellphone', 'key']\r\n",
        "card = False\r\n",
        "\r\n",
        "if 'money' in pocket :\r\n",
        "    print(\"과자를 살 수 있다\")\r\n",
        "else :\r\n",
        "    if card :\r\n",
        "        print(\"과자를 살 수 있다\")\r\n",
        "    else :\r\n",
        "        print(\"과자를 살 수 없다\")"
      ],
      "execution_count": 2,
      "outputs": [
        {
          "output_type": "stream",
          "text": [
            "과자를 살 수 없다\n"
          ],
          "name": "stdout"
        }
      ]
    },
    {
      "cell_type": "code",
      "metadata": {
        "colab": {
          "base_uri": "https://localhost:8080/"
        },
        "id": "ftLnUFqKqxFL",
        "outputId": "278acff2-287e-4603-fbeb-f71a57f41c2b"
      },
      "source": [
        "pocket = ['card', 'cellphone', 'key']\r\n",
        "\r\n",
        "if 'money' in pocket :\r\n",
        "    print(\"과자를 살 수 있다\")\r\n",
        "else :\r\n",
        "    if 'card' in pocket :\r\n",
        "        print(\"과자를 살 수 있다\")\r\n",
        "    else :\r\n",
        "        print(\"과자를 살 수 없다\")"
      ],
      "execution_count": 3,
      "outputs": [
        {
          "output_type": "stream",
          "text": [
            "과자를 살 수 있다\n"
          ],
          "name": "stdout"
        }
      ]
    },
    {
      "cell_type": "code",
      "metadata": {
        "colab": {
          "base_uri": "https://localhost:8080/"
        },
        "id": "-bTZNVVkq5Ey",
        "outputId": "ede68370-e60b-481d-fa2f-7a46f57c2d90"
      },
      "source": [
        "pocket = ['cellphone', 'key']\r\n",
        "\r\n",
        "if 'money' in pocket :\r\n",
        "    print(\"과자를 살 수 있다\")\r\n",
        "else :\r\n",
        "    if 'card' in pocket :\r\n",
        "        print(\"과자를 살 수 있다\")\r\n",
        "    else :\r\n",
        "        print(\"과자를 살 수 없다\")"
      ],
      "execution_count": 4,
      "outputs": [
        {
          "output_type": "stream",
          "text": [
            "과자를 살 수 없다\n"
          ],
          "name": "stdout"
        }
      ]
    },
    {
      "cell_type": "markdown",
      "metadata": {
        "id": "R15SJKYXrBNA"
      },
      "source": [
        "이때, elif를 사용하면 위의 여러 조건을 더 간단히 표현할 수 있다."
      ]
    },
    {
      "cell_type": "code",
      "metadata": {
        "colab": {
          "base_uri": "https://localhost:8080/"
        },
        "id": "1YJ8XLuwrM7C",
        "outputId": "d9fbf991-b3b1-45c8-da7d-2769a67d5e53"
      },
      "source": [
        "pocket = ['card', 'cellphone', 'key']\r\n",
        "card = True\r\n",
        "\r\n",
        "if 'money' in pocket :\r\n",
        "    print(\"과자를 살 수 있다\")\r\n",
        "elif card :\r\n",
        "        print(\"과자를 살 수 있다\")\r\n",
        "else :\r\n",
        "        print(\"과자를 살 수 없다\")"
      ],
      "execution_count": 6,
      "outputs": [
        {
          "output_type": "stream",
          "text": [
            "과자를 살 수 있다\n"
          ],
          "name": "stdout"
        }
      ]
    },
    {
      "cell_type": "code",
      "metadata": {
        "colab": {
          "base_uri": "https://localhost:8080/"
        },
        "id": "_gjMGvY8rZer",
        "outputId": "5946b0ff-8c2c-4358-9bdf-aa98cd9bb20c"
      },
      "source": [
        "pocket = ['card', 'cellphone', 'key']\r\n",
        "card = False\r\n",
        "\r\n",
        "if 'money' in pocket :\r\n",
        "    print(\"과자를 살 수 있다\")\r\n",
        "elif card :\r\n",
        "        print(\"과자를 살 수 있다\")\r\n",
        "else :\r\n",
        "        print(\"과자를 살 수 없다\")"
      ],
      "execution_count": 7,
      "outputs": [
        {
          "output_type": "stream",
          "text": [
            "과자를 살 수 없다\n"
          ],
          "name": "stdout"
        }
      ]
    },
    {
      "cell_type": "markdown",
      "metadata": {
        "id": "W58Zyl2frcKq"
      },
      "source": [
        "즉, 'if문의 조건 1이 거짓일 때, 조건 2라면 ~' 의 형태를 영어로 else if 로 표현하는데, 파이썬에서는 이를 줄여서 elif 라고 한다.\r\n",
        "\r\n",
        "> if 조건 1 :\r\n",
        "    <실행할 명령 1> <br>\r\n",
        " elif 조건 2 :\r\n",
        "    <실행할 명령 2>\r\n",
        "\r\n",
        "조건 1이 참일 때 → 실행할 명령 1 <br>\r\n",
        "조건 1이 거짓일 때 → 조건 2 <br>\r\n",
        "조건 2가 참일 때 → 실행할 명령 2\r\n",
        "\r\n",
        "if문을 만들 때와 마찬가지로, elif문에도 조건과 실행할 명령을 적어준다. <br>\r\n",
        "elif문은 if문의 조건이 거짓일 때 작동한다.\r\n",
        "\r\n"
      ]
    },
    {
      "cell_type": "code",
      "metadata": {
        "colab": {
          "base_uri": "https://localhost:8080/"
        },
        "id": "jQIwwHMQ-Uo3",
        "outputId": "918a49b4-e733-4c95-f4d7-731686b2ad6b"
      },
      "source": [
        "x = int(input())\r\n",
        "if x % 2 == 0 :\r\n",
        "    print('2의 배수')\r\n",
        "elif x % 3 == 0 :\r\n",
        "    print('3의 배수')"
      ],
      "execution_count": 10,
      "outputs": [
        {
          "output_type": "stream",
          "text": [
            "15\n",
            "3의 배수\n"
          ],
          "name": "stdout"
        }
      ]
    },
    {
      "cell_type": "markdown",
      "metadata": {
        "id": "Ny4TLR-A-0hX"
      },
      "source": [
        "\r\n",
        "\r\n",
        "1.   입력받은 값을 숫자형으로 바꾸어 변수 x에 저장\r\n",
        "2.   입력받은 x를 2로 나누었을 때, 나머지가 0 이라면\r\n",
        "3.   '2의 배수' 를 출력\r\n",
        "4.   x를 2로 나누었을 때, 나머지가 0이 아니라면\r\n",
        "5.   x를 3으로 나누고 그 때의 나머지가 0이라면\r\n",
        "6.   '3의 배수' 를 출력\r\n",
        "\r\n",
        "\r\n"
      ]
    },
    {
      "cell_type": "markdown",
      "metadata": {
        "id": "slZBh7C5_XJn"
      },
      "source": [
        "else 문과 elif 문은 if 문 없이 혼자 쓸 수 없고, <br>\r\n",
        "if ~ else, <br> if ~ elif, <br> if ~ elif ~ else 문으로 사용하여야 한다."
      ]
    },
    {
      "cell_type": "markdown",
      "metadata": {
        "id": "RrCy1nDQsEyN"
      },
      "source": [
        ""
      ]
    }
  ]
}