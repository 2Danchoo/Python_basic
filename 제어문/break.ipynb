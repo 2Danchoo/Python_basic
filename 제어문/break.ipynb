{
  "nbformat": 4,
  "nbformat_minor": 0,
  "metadata": {
    "colab": {
      "name": "break.ipynb",
      "provenance": [],
      "collapsed_sections": []
    },
    "kernelspec": {
      "name": "python3",
      "display_name": "Python 3"
    }
  },
  "cells": [
    {
      "cell_type": "markdown",
      "metadata": {
        "id": "HEEP4MiMBaqx"
      },
      "source": [
        "## break 문\r\n",
        "\r\n",
        "while 문은 조건이 참인 동안 명령을 반복해서 실행한다.   \r\n",
        "그런데 만약 조건이 항상 참이기만 할 경우, while 문을 실행한다면 코드는 무한정으로 실행될 것.\r\n"
      ]
    },
    {
      "cell_type": "code",
      "metadata": {
        "id": "OxkW_i7iBVh9"
      },
      "source": [
        "i = 1\r\n",
        "while i > 0 :\r\n",
        "    print(i)\r\n",
        "    i = i + 1"
      ],
      "execution_count": null,
      "outputs": []
    },
    {
      "cell_type": "markdown",
      "metadata": {
        "id": "mMCZUDlgCRjR"
      },
      "source": [
        "위의 경우처럼,    \r\n",
        "while 문의 조건이 항상 참이어서 코드가 무한정 실행되는 것을 **무한 루프**라고 한다.\r\n",
        "\r\n",
        "여기서 무한루프에서 빠져나갈 수 있도록 반복문을 강제로 종료하고자 할 때,   \r\n",
        "반복문을 중단하는 명령을 **break** 라고 한다.\r\n",
        "\r\n",
        "`break`는 조건문과 함께 사용한다.   \r\n",
        "if 문으로 조건을 달아 참일 경우 `break` 를 실행하여 반복문에서 빠져나오는 방식으로 많이 사용하며   \r\n",
        "for 문을 멈추게 하고 싶을 때도 `break`를 사용할 수 있다."
      ]
    },
    {
      "cell_type": "code",
      "metadata": {
        "id": "A_-T5kW5DuyB",
        "colab": {
          "base_uri": "https://localhost:8080/"
        },
        "outputId": "95ff9be5-cc23-41db-cb8a-c1395d5cc9d6"
      },
      "source": [
        "for i in range(1, 10) :\r\n",
        "    if i == 7 :\r\n",
        "        break\r\n",
        "    print(i)\r\n",
        "print(\"i는 7입니다\")\r\n"
      ],
      "execution_count": 1,
      "outputs": [
        {
          "output_type": "stream",
          "text": [
            "1\n",
            "2\n",
            "3\n",
            "4\n",
            "5\n",
            "6\n",
            "i는 7입니다\n"
          ],
          "name": "stdout"
        }
      ]
    },
    {
      "cell_type": "markdown",
      "metadata": {
        "id": "W6TiS5eZs4vE"
      },
      "source": [
        "<Do it! 첫 파이썬 / 5분 코딩 31번 예제>"
      ]
    },
    {
      "cell_type": "code",
      "metadata": {
        "colab": {
          "base_uri": "https://localhost:8080/"
        },
        "id": "wJboVnRitifU",
        "outputId": "964278d4-0da9-4d42-b8fa-ff38e6110e44"
      },
      "source": [
        "i = 1\r\n",
        "while True :\r\n",
        "    print(i, '월 1만 원을 입금했습니다.')\r\n",
        "    if i == 12 :\r\n",
        "        print('입금 완료! 12만 원을 수령하세요!')\r\n",
        "        break\r\n",
        "    i = i + 1"
      ],
      "execution_count": 2,
      "outputs": [
        {
          "output_type": "stream",
          "text": [
            "1 월 1만 원을 입금했습니다.\n",
            "2 월 1만 원을 입금했습니다.\n",
            "3 월 1만 원을 입금했습니다.\n",
            "4 월 1만 원을 입금했습니다.\n",
            "5 월 1만 원을 입금했습니다.\n",
            "6 월 1만 원을 입금했습니다.\n",
            "7 월 1만 원을 입금했습니다.\n",
            "8 월 1만 원을 입금했습니다.\n",
            "9 월 1만 원을 입금했습니다.\n",
            "10 월 1만 원을 입금했습니다.\n",
            "11 월 1만 원을 입금했습니다.\n",
            "12 월 1만 원을 입금했습니다.\n",
            "입금 완료! 12만 원을 수령하세요!\n"
          ],
          "name": "stdout"
        }
      ]
    },
    {
      "cell_type": "markdown",
      "metadata": {
        "id": "mP8V3HeEuDsC"
      },
      "source": [
        "* 들여쓰기는 코드가 어떤 구문에 속하는지 구분해주고 이에 따라 실행 결과가 달라질 수 있으므로 주의해야 한다.\r\n"
      ]
    },
    {
      "cell_type": "markdown",
      "metadata": {
        "id": "3-dvtUawuX50"
      },
      "source": [
        "<Do it! 첫 파이썬 / 5분 코딩 32번 예제>"
      ]
    },
    {
      "cell_type": "code",
      "metadata": {
        "colab": {
          "base_uri": "https://localhost:8080/"
        },
        "id": "f7tUmWFZubks",
        "outputId": "5346bf8b-4e33-4f25-94a3-0f22a7ca6f86"
      },
      "source": [
        "i = 1\r\n",
        "sum = 0\r\n",
        "while True:\r\n",
        "    sum = sum + i\r\n",
        "    if i >= 10 :\r\n",
        "        break\r\n",
        "\r\n",
        "    i = i + 1\r\n",
        "print(sum)"
      ],
      "execution_count": 3,
      "outputs": [
        {
          "output_type": "stream",
          "text": [
            "55\n"
          ],
          "name": "stdout"
        }
      ]
    }
  ]
}