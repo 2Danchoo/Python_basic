{
  "nbformat": 4,
  "nbformat_minor": 0,
  "metadata": {
    "colab": {
      "name": "input-output.ipynb",
      "provenance": [],
      "collapsed_sections": []
    },
    "kernelspec": {
      "name": "python3",
      "display_name": "Python 3"
    }
  },
  "cells": [
    {
      "cell_type": "markdown",
      "metadata": {
        "id": "Qe7DnHYG93d2"
      },
      "source": [
        "##**input()**\r\n",
        "\r\n",
        "파이썬 언어로 컴퓨터에 무언가를 입력하고 싶을 때는 먼저 input() 함수를 실행해야 한다.\r\n",
        "\r\n",
        "> 기본형 : 변수 이름 = input()    \r\n",
        "  예 : var = input() *# 입력한 자료를 변수 var에 저장한다*\r\n",
        "\r\n",
        "> 입력 : variable = input()    \r\n",
        "  출력 : print(variable)     \r\n",
        "\r\n",
        "사용자가 컴퓨터에 표준 입력장치(키보드)로 자료를 입력하면 그 내용이 컴퓨터에 전달된다 (문자열을 입력 받는다).    \r\n",
        "컴퓨터는 사용자가 입력한 값을 어딘가에 저장해야 하는데 이때 변수를 사용한다.     \r\n",
        "*(변수 : 상황에 따라 값이 변하는 수 또는 변하는 값을 넣는 공간)*\r\n",
        "\r\n",
        "즉, 내가 설정한 변수에 input() 값을 저장(대입)하는 것."
      ]
    },
    {
      "cell_type": "code",
      "metadata": {
        "colab": {
          "base_uri": "https://localhost:8080/"
        },
        "id": "d4z-LAR9B1qf",
        "outputId": "6d55f33e-7f30-4c96-bae9-758217f6ac68"
      },
      "source": [
        "var = input()\r\n",
        "print(var)"
      ],
      "execution_count": null,
      "outputs": [
        {
          "output_type": "stream",
          "text": [
            "Hello world!\n",
            "Hello world!\n"
          ],
          "name": "stdout"
        }
      ]
    },
    {
      "cell_type": "code",
      "metadata": {
        "colab": {
          "base_uri": "https://localhost:8080/"
        },
        "id": "bal6mPMJDKTf",
        "outputId": "66e92448-d75c-4858-e270-37bcaad718d8"
      },
      "source": [
        "variable = input()\r\n",
        "print('입력값 : ',variable)"
      ],
      "execution_count": 1,
      "outputs": [
        {
          "output_type": "stream",
          "text": [
            "Hello world!\n",
            "입력값 :  Hello world!\n"
          ],
          "name": "stdout"
        }
      ]
    },
    {
      "cell_type": "markdown",
      "metadata": {
        "id": "n0ZO1ZBxDixi"
      },
      "source": [
        "input() 함수의 중요한 특징 중 하나는   \r\n",
        "input() 함수로 입력 받은 값을 모두 문자열로 받아들인다는 것이다.\r\n",
        "\r\n",
        "예를 들어, input()에 숫자 7을 입력해도   \r\n",
        "이를 숫자 7이 아닌 문자열 '7'로 인식한다는 것.\r\n",
        "\r\n",
        "---\r\n",
        "\r\n"
      ]
    },
    {
      "cell_type": "markdown",
      "metadata": {
        "id": "VwTAydxVCrKQ"
      },
      "source": [
        "## **print()**"
      ]
    },
    {
      "cell_type": "markdown",
      "metadata": {
        "id": "nyrJSeZ7YoYF"
      },
      "source": [
        "컴퓨터에 저장된 정보는 프로그래밍 언어를 이용해 모니터에 나타낼 수 있다. 이것을 출력이라고 한다. <br>\r\n",
        "파이썬에서는 출력할 때 **`print()`** 함수를 사용한다. \r\n",
        "\r\n",
        "그렇다면, a 라는 이름을 가진 변수를 만들어 5 라는 값을 a에 넣어보자"
      ]
    },
    {
      "cell_type": "code",
      "metadata": {
        "id": "n2pewZupxQwV"
      },
      "source": [
        "a = 5"
      ],
      "execution_count": 62,
      "outputs": []
    },
    {
      "cell_type": "markdown",
      "metadata": {
        "id": "eea4ZMS0xZ_W"
      },
      "source": [
        "명령을 실행시켰음에도, 아무 것도 출력되지 않는 이유는   \r\n",
        "'a 라는 변수에 5 라는 값을 담으라는 명령'만 했기 때문이다.\r\n",
        "\r\n",
        "그럼 이번에는 명령을 잘 실행하였는지 출력하라는 명령도 내려보자"
      ]
    },
    {
      "cell_type": "code",
      "metadata": {
        "colab": {
          "base_uri": "https://localhost:8080/"
        },
        "id": "7q9eEc7iyB1-",
        "outputId": "0a236d22-6a2f-4202-ed75-24a7e9d9a2c5"
      },
      "source": [
        "a = 5\r\n",
        "print(a)"
      ],
      "execution_count": 63,
      "outputs": [
        {
          "output_type": "stream",
          "text": [
            "5\n"
          ],
          "name": "stdout"
        }
      ]
    },
    {
      "cell_type": "markdown",
      "metadata": {
        "id": "k3sBX5MJuE1W"
      },
      "source": [
        "**print() 함수에 문자열을 입력할 때, '작은 따옴표' 또는 \"큰 따옴표\"를 함께 사용한다.**"
      ]
    },
    {
      "cell_type": "code",
      "metadata": {
        "colab": {
          "base_uri": "https://localhost:8080/"
        },
        "id": "DPy72NtAbYfJ",
        "outputId": "82fa817c-15ab-4d6c-f485-3c34ff0058b0"
      },
      "source": [
        "# '작은 따옴표' 또는 \"큰 따옴표\" 둘 중 어느 것이든 사용 가능하다.\r\n",
        "# '작은 따옴표'와 \"큰 따옴표\"를 함께 써서 문자열을 구분해줄 수도 있다. \r\n",
        "\r\n",
        "print('Hello world')\r\n",
        "print(\"Hello world\")\r\n",
        "print(\"This is 'world'\")\r\n",
        "print(\"This is he's world\")\r\n",
        "print('she said, \"Hello world\"')"
      ],
      "execution_count": 61,
      "outputs": [
        {
          "output_type": "stream",
          "text": [
            "Hello world\n",
            "Hello world\n",
            "This is 'world'\n",
            "This is he's world\n",
            "she said, \"Hello world\"\n"
          ],
          "name": "stdout"
        }
      ]
    },
    {
      "cell_type": "markdown",
      "metadata": {
        "id": "yVQQd2-2yIu2"
      },
      "source": [
        "**print() 함수에 변수와 문자를 같이 출력할 수 있다.**\r\n",
        "\r\n",
        "다른 문자와 변수를 묶어 하나로 출력할 때는   \r\n",
        "따옴표로 묶은 문자와 문자형 변수 사이에 `더하기(+) 기호`를 사용하면 된다."
      ]
    },
    {
      "cell_type": "code",
      "metadata": {
        "colab": {
          "base_uri": "https://localhost:8080/"
        },
        "id": "VyY0Nr7g0gX_",
        "outputId": "6114fdbb-382e-4a6f-ef9e-0491658d9d07"
      },
      "source": [
        "name = \"python\"\r\n",
        "print(\"내 이름은 \" + name +\"이야\")"
      ],
      "execution_count": 69,
      "outputs": [
        {
          "output_type": "stream",
          "text": [
            "내 이름은 python이야\n"
          ],
          "name": "stdout"
        }
      ]
    },
    {
      "cell_type": "markdown",
      "metadata": {
        "id": "zXZvrLqy382-"
      },
      "source": [
        "**줄바꿈**   \r\n",
        "\\n 을 삽입하거나, (역슬래시)   \r\n",
        "'''작은 따옴표''' 또는 \"\"\"큰 따옴표\"\"\"를 사용하여 줄바꿈을 해줄 수도 있다. (docstring 방식)"
      ]
    },
    {
      "cell_type": "code",
      "metadata": {
        "colab": {
          "base_uri": "https://localhost:8080/"
        },
        "id": "lCqR7f-5btjz",
        "outputId": "b9d873da-0e27-4ea9-f1a1-fe69a88bffe6"
      },
      "source": [
        "print(\"그렇다면 \\\\n을 사용하여 \\n줄바꿈을 해봅시다\")\r\n",
        "print(\"\")\r\n",
        "print(\"\"\"다른 방식으로도 \r\n",
        "줄 바꿈을 해봅시다\"\"\")"
      ],
      "execution_count": 51,
      "outputs": [
        {
          "output_type": "stream",
          "text": [
            "그렇다면 \\n을 사용하여 \n",
            "줄바꿈을 해봅시다\n",
            "\n",
            "다른 방식으로도 \n",
            "줄 바꿈을 해봅시다\n"
          ],
          "name": "stdout"
        }
      ]
    }
  ]
}