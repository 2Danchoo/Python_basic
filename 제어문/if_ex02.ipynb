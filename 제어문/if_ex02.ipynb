{
  "nbformat": 4,
  "nbformat_minor": 0,
  "metadata": {
    "colab": {
      "name": "if_ex02.ipynb",
      "provenance": [],
      "collapsed_sections": []
    },
    "kernelspec": {
      "name": "python3",
      "display_name": "Python 3"
    }
  },
  "cells": [
    {
      "cell_type": "markdown",
      "metadata": {
        "id": "wiJx1vJma6cD"
      },
      "source": [
        "###조건문이란?\r\n",
        "\r\n",
        "**if 조건문**에서 \"조건문\"이란 참과 거짓을 판단하는 문장이다."
      ]
    },
    {
      "cell_type": "markdown",
      "metadata": {
        "id": "GcQR_2KDdEiT"
      },
      "source": [
        "#### 비교연산자\r\n",
        "\r\n",
        "|<center> 비교연산자 </center>|<center> 설명 </center>|\r\n",
        "|:--------:|:--------:|\r\n",
        "|**x < y** |x가 y보다 작다|\r\n",
        "|**x > y** |x가 y보다 크다|\r\n",
        "|**x==y** |x와 y가 같다 |\r\n",
        "|**x!=y**|x와 y가 같지 않다|\r\n",
        "|**x>=y**|x가 y보다 크거나 같다|\r\n",
        "|**x<=y|x가 y보다 작거나 같다|\r\n",
        "\r\n"
      ]
    },
    {
      "cell_type": "code",
      "metadata": {
        "colab": {
          "base_uri": "https://localhost:8080/"
        },
        "id": "Z7DjUDKPa4aT",
        "outputId": "ea103d73-6e3a-4235-99e8-3c357bcba035"
      },
      "source": [
        "x = 1\r\n",
        "y = 5\r\n",
        "x < y\r\n"
      ],
      "execution_count": 1,
      "outputs": [
        {
          "output_type": "execute_result",
          "data": {
            "text/plain": [
              "True"
            ]
          },
          "metadata": {
            "tags": []
          },
          "execution_count": 1
        }
      ]
    },
    {
      "cell_type": "markdown",
      "metadata": {
        "id": "Gzp9Pz_nhvsJ"
      },
      "source": [
        "x에 1을, y에 5를 대입한 후\r\n",
        "x < y 라는 조건문을 수행하면 True를 돌려준다.\r\n",
        "\r\n",
        "x < y 조건문이 참이기 때문이다."
      ]
    },
    {
      "cell_type": "code",
      "metadata": {
        "colab": {
          "base_uri": "https://localhost:8080/"
        },
        "id": "hn07D-DCh9NB",
        "outputId": "60fe9732-f411-4461-8083-3fb90495ace3"
      },
      "source": [
        "x > y"
      ],
      "execution_count": 5,
      "outputs": [
        {
          "output_type": "execute_result",
          "data": {
            "text/plain": [
              "False"
            ]
          },
          "metadata": {
            "tags": []
          },
          "execution_count": 5
        }
      ]
    },
    {
      "cell_type": "code",
      "metadata": {
        "colab": {
          "base_uri": "https://localhost:8080/"
        },
        "id": "dUkzc-txiKZ5",
        "outputId": "52d2579b-5fa0-4aba-b3a0-b2bfa727d44b"
      },
      "source": [
        "x == y"
      ],
      "execution_count": 6,
      "outputs": [
        {
          "output_type": "execute_result",
          "data": {
            "text/plain": [
              "False"
            ]
          },
          "metadata": {
            "tags": []
          },
          "execution_count": 6
        }
      ]
    },
    {
      "cell_type": "markdown",
      "metadata": {
        "id": "7IQ1aOpKiBZZ"
      },
      "source": [
        "위의 조건문은 거짓이므로 False를 돌려준다."
      ]
    },
    {
      "cell_type": "code",
      "metadata": {
        "colab": {
          "base_uri": "https://localhost:8080/"
        },
        "id": "Q3fMA5iniMf4",
        "outputId": "e6a39f2b-a87a-42d2-c5a5-7919c54f0688"
      },
      "source": [
        "x != y"
      ],
      "execution_count": 7,
      "outputs": [
        {
          "output_type": "execute_result",
          "data": {
            "text/plain": [
              "True"
            ]
          },
          "metadata": {
            "tags": []
          },
          "execution_count": 7
        }
      ]
    },
    {
      "cell_type": "markdown",
      "metadata": {
        "id": "3u0HE7Iamf3g"
      },
      "source": [
        "x와 y는 같지 않으므로, 위의 조건문은 참이다."
      ]
    },
    {
      "cell_type": "code",
      "metadata": {
        "colab": {
          "base_uri": "https://localhost:8080/"
        },
        "id": "PwaUp8FUmlg_",
        "outputId": "3bc8e0eb-f379-4c4d-8c99-7bd13ac8a96b"
      },
      "source": [
        "money = 5000\r\n",
        "if money >= 3000 :\r\n",
        "    print(\"바나나를 살 수 있다\")\r\n",
        "else :\r\n",
        "    print(\"바나나를 살 수 없다\")"
      ],
      "execution_count": 8,
      "outputs": [
        {
          "output_type": "stream",
          "text": [
            "바나나를 살 수 있다\n"
          ],
          "name": "stdout"
        }
      ]
    },
    {
      "cell_type": "code",
      "metadata": {
        "colab": {
          "base_uri": "https://localhost:8080/"
        },
        "id": "gSfTwuX8nDkf",
        "outputId": "53490846-5e53-4e4c-b8f1-efca87004778"
      },
      "source": [
        "money = 2000\r\n",
        "if money >= 3000 :\r\n",
        "    print(\"바나나를 살 수 있다\")\r\n",
        "else :\r\n",
        "    print(\"바나나를 살 수 없다\")"
      ],
      "execution_count": 9,
      "outputs": [
        {
          "output_type": "stream",
          "text": [
            "바나나를 살 수 없다\n"
          ],
          "name": "stdout"
        }
      ]
    },
    {
      "cell_type": "markdown",
      "metadata": {
        "id": "N1jPBvMrnGMw"
      },
      "source": [
        "### and, or, not\r\n",
        "\r\n",
        "조건을 판단하기 위해 사용하는 다른 연산자로 and, or, not이 있다.\r\n",
        "\r\n",
        "각각의 연산자에 대한 설명은 다음과 같다.\r\n",
        "\r\n",
        "|**연산자**|**설명**|\r\n",
        "|:-:|:-:|\r\n",
        "|**x or y**|x와 y 둘 중에 하나만 참이어도 참이다|\r\n",
        "|**x and y**|x와 y 모두 참이어야 참이다|\r\n",
        "|**not x**|x가 거짓이면 참이다|"
      ]
    },
    {
      "cell_type": "code",
      "metadata": {
        "colab": {
          "base_uri": "https://localhost:8080/"
        },
        "id": "uzihmrdUn1Fg",
        "outputId": "93f81bed-0abc-4afb-a341-50e849730d33"
      },
      "source": [
        "money = 2000\r\n",
        "card = True\r\n",
        "if money >= 3000 or card :\r\n",
        "    print(\"바나나를 살 수 있다\")\r\n",
        "else :\r\n",
        "    print(\"바나나를 살 수 없다\")"
      ],
      "execution_count": 12,
      "outputs": [
        {
          "output_type": "stream",
          "text": [
            "바나나를 살 수 있다\n"
          ],
          "name": "stdout"
        }
      ]
    },
    {
      "cell_type": "markdown",
      "metadata": {
        "id": "6XaVdFgooMgq"
      },
      "source": [
        "money는 2,000이지만 card는 True이므로\r\n",
        "\r\n",
        "money >= 3000 or card 의 조건을 만족하여 조건문은 참이 된다."
      ]
    },
    {
      "cell_type": "code",
      "metadata": {
        "colab": {
          "base_uri": "https://localhost:8080/"
        },
        "id": "lA6Pma0coHTA",
        "outputId": "e52fc901-b93b-46fb-f113-d39659927d5c"
      },
      "source": [
        "money = 2000\r\n",
        "card = False\r\n",
        "if money >=3000 or card :\r\n",
        "    print(\"바나나를 살 수 있다\")\r\n",
        "else :\r\n",
        "    print(\"바나나를 살 수 없다\")"
      ],
      "execution_count": 11,
      "outputs": [
        {
          "output_type": "stream",
          "text": [
            "바나나를 살 수 없다\n"
          ],
          "name": "stdout"
        }
      ]
    },
    {
      "cell_type": "markdown",
      "metadata": {
        "id": "9ZIzvIEFobhI"
      },
      "source": [
        "money >=3000 or card 의 어느 조건도 만족하지 못하므로\r\n",
        "\r\n",
        "조건문은 거짓이 된다."
      ]
    },
    {
      "cell_type": "markdown",
      "metadata": {
        "id": "Zzet52IZokw3"
      },
      "source": [
        "#### in s, x not in s\r\n",
        "\r\n",
        "|**in**|**not in**|\r\n",
        "|:-:|:-:|\r\n",
        "|**x in 리스트**|x not in 리스트|\r\n",
        "|**x in 튜플**|x not in 튜플|\r\n",
        "|**x in 문자열**|x not in 문자열|"
      ]
    },
    {
      "cell_type": "code",
      "metadata": {
        "colab": {
          "base_uri": "https://localhost:8080/"
        },
        "id": "OEKXFl7BvRGG",
        "outputId": "eaa5575b-3a29-4598-9546-c6c3c13b1870"
      },
      "source": [
        "1 in [1, 2, 3]"
      ],
      "execution_count": 15,
      "outputs": [
        {
          "output_type": "execute_result",
          "data": {
            "text/plain": [
              "True"
            ]
          },
          "metadata": {
            "tags": []
          },
          "execution_count": 15
        }
      ]
    },
    {
      "cell_type": "code",
      "metadata": {
        "colab": {
          "base_uri": "https://localhost:8080/"
        },
        "id": "9QZTu8CVvXd-",
        "outputId": "61d3d6d6-0a19-4c72-c064-dd21a2379704"
      },
      "source": [
        "1 not in [1, 2, 3]"
      ],
      "execution_count": 16,
      "outputs": [
        {
          "output_type": "execute_result",
          "data": {
            "text/plain": [
              "False"
            ]
          },
          "metadata": {
            "tags": []
          },
          "execution_count": 16
        }
      ]
    },
    {
      "cell_type": "markdown",
      "metadata": {
        "id": "EgbaZsiPvdaG"
      },
      "source": [
        "첫 번째 예는 [1, 2, 3]이라는 리스트 안에 1이 있는가에 대한 조건문이다.\r\n",
        "1은 [1, 2, 3] 안에 있으므로 조건문은 참이 되어 True를 돌려준다.\r\n",
        "\r\n",
        "두번째 예는 [1, 2, 3]이라는 리스트 안에 1이 없는가에 대한 조건문이다.\r\n",
        "1은 [1, 2, 3] 안에 없으므로 조건문은 거짓이 되어 False를 돌려준다."
      ]
    },
    {
      "cell_type": "code",
      "metadata": {
        "colab": {
          "base_uri": "https://localhost:8080/"
        },
        "id": "zUXL_yi2v-ye",
        "outputId": "11ad6a2d-9782-4828-ea52-590bee43503f"
      },
      "source": [
        "'a' in ('a', 'b', 'c')"
      ],
      "execution_count": 17,
      "outputs": [
        {
          "output_type": "execute_result",
          "data": {
            "text/plain": [
              "True"
            ]
          },
          "metadata": {
            "tags": []
          },
          "execution_count": 17
        }
      ]
    },
    {
      "cell_type": "code",
      "metadata": {
        "colab": {
          "base_uri": "https://localhost:8080/"
        },
        "id": "LlcF0ytQxqCf",
        "outputId": "dcc4d2fd-a58d-4c36-a5a2-4bb3b57a4be3"
      },
      "source": [
        "'a' not in 'python'"
      ],
      "execution_count": 18,
      "outputs": [
        {
          "output_type": "execute_result",
          "data": {
            "text/plain": [
              "True"
            ]
          },
          "metadata": {
            "tags": []
          },
          "execution_count": 18
        }
      ]
    },
    {
      "cell_type": "code",
      "metadata": {
        "colab": {
          "base_uri": "https://localhost:8080/"
        },
        "id": "bDUNzkv5xvTu",
        "outputId": "4b8069c4-5c34-4982-e862-1169f3b1cc3e"
      },
      "source": [
        "'p' not in 'python'"
      ],
      "execution_count": 19,
      "outputs": [
        {
          "output_type": "execute_result",
          "data": {
            "text/plain": [
              "False"
            ]
          },
          "metadata": {
            "tags": []
          },
          "execution_count": 19
        }
      ]
    },
    {
      "cell_type": "code",
      "metadata": {
        "colab": {
          "base_uri": "https://localhost:8080/"
        },
        "id": "XWUhz-EnxynP",
        "outputId": "141adff9-21b8-4d63-c76b-52a76c51bb9c"
      },
      "source": [
        "pocket = ['money', 'cellphone', 'key']\r\n",
        "if 'money' in pocket :\r\n",
        "    print(\"과자를 살 수 있다\")\r\n",
        "else :\r\n",
        "    print(\"과자를 살 수 없다\")"
      ],
      "execution_count": 20,
      "outputs": [
        {
          "output_type": "stream",
          "text": [
            "과자를 살 수 있다\n"
          ],
          "name": "stdout"
        }
      ]
    },
    {
      "cell_type": "markdown",
      "metadata": {
        "id": "J5sQg_xTyReF"
      },
      "source": [
        "['money', 'cellphone', 'key'] 리스트 안에 'money'가 있으므로 'money' in pocket 조건문이 참이 되어  if문 다음 문장이 수행된다."
      ]
    },
    {
      "cell_type": "markdown",
      "metadata": {
        "id": "WBmCkM4v13Ev"
      },
      "source": [
        "**조건문에서 아무 것도 하지 않게 설정하고 싶을 때**"
      ]
    },
    {
      "cell_type": "code",
      "metadata": {
        "id": "h1N4VZWnyfcM"
      },
      "source": [
        "pocket = ['cellphone', 'key']\r\n",
        "if 'money' in pocket :\r\n",
        "    print(\"과자를 살 수 있다\")\r\n",
        "else :\r\n",
        "    pass"
      ],
      "execution_count": 21,
      "outputs": []
    },
    {
      "cell_type": "markdown",
      "metadata": {
        "id": "qcoGNb2V2G19"
      },
      "source": [
        "pocket 리스트 안에 money 문자열이 없으므로\r\n",
        "\r\n",
        "if문 문장이 아닌 else에 해당되어 아무 결과도 도출되지 않는다. (pass)"
      ]
    }
  ]
}