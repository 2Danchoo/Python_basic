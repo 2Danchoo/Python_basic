{
  "nbformat": 4,
  "nbformat_minor": 0,
  "metadata": {
    "colab": {
      "name": "if_ex04.ipynb",
      "provenance": [],
      "collapsed_sections": []
    },
    "kernelspec": {
      "name": "python3",
      "display_name": "Python 3"
    }
  },
  "cells": [
    {
      "cell_type": "markdown",
      "metadata": {
        "id": "sYv8xZ5ymqUX"
      },
      "source": [
        "##조건이 모두 거짓일 때, if ~ elif ~ else문"
      ]
    },
    {
      "cell_type": "markdown",
      "metadata": {
        "id": "GXx5v8w1m278"
      },
      "source": [
        "if문이 참이면 if문을, if문이 거짓이면 elif문을, elif문까지 모두 거짓이면 마지막으로 else문을 실행한다.\r\n",
        "\r\n",
        "> if 조건 1 : <br>\r\n",
        "　　<명령 1> 　# 조건 1이 참이면 실행 <br>\r\n",
        "elif 조건 2 : <br>\r\n",
        "　　<명령 2> 　# 조건 1이 거짓이고, 조건 2가 참이면 실행 <br>\r\n",
        "elif 조건 3 : <br>\r\n",
        "　　<명령 3> 　# 조건 1,2 모두 거짓이고, 조건 3이 참이면 실행 <br>\r\n",
        "... <br>\r\n",
        "else : <br>\r\n",
        "　　<명령 N> 　# 조건이 모두 거짓이면 실행\r\n"
      ]
    },
    {
      "cell_type": "code",
      "metadata": {
        "colab": {
          "base_uri": "https://localhost:8080/"
        },
        "id": "aFabGpOBwpEz",
        "outputId": "e8c75e8d-fbbf-484a-9ca3-4e0c15b63447"
      },
      "source": [
        "pocket = ['cellphone', 'key']\r\n",
        "card = False\r\n",
        "\r\n",
        "if 'money' in pocket :\r\n",
        "    print(\"붕어빵을 살 수 있다\")\r\n",
        "elif 'coin' in pocket :\r\n",
        "    print(\"인형뽑기를 할 수 있다\")\r\n",
        "elif card :\r\n",
        "    print(\"편의점에 갈 수 있다\")\r\n",
        "else :\r\n",
        "    print(\"그냥 집에 가라\")"
      ],
      "execution_count": null,
      "outputs": [
        {
          "output_type": "stream",
          "text": [
            "그냥 집에 가라\n"
          ],
          "name": "stdout"
        }
      ]
    },
    {
      "cell_type": "markdown",
      "metadata": {
        "id": "Hsk5TTdT4Hyj"
      },
      "source": [
        "### if ~ elif ~ else 문을 이용한 Up-Down Game"
      ]
    },
    {
      "cell_type": "code",
      "metadata": {
        "id": "tVhkvZl0kxJ0",
        "colab": {
          "base_uri": "https://localhost:8080/"
        },
        "outputId": "5871c3f3-247c-48c3-bbac-abb0003b17b2"
      },
      "source": [
        "ans = 21\r\n",
        "num = int(input())\r\n",
        "\r\n",
        "if num > ans :\r\n",
        "    print(\"그 수보다 작습니다\")\r\n",
        "elif num < ans :\r\n",
        "    print(\"그 수보다 큽니다\")\r\n",
        "else :\r\n",
        "    print(\"정답입니다!\")"
      ],
      "execution_count": null,
      "outputs": [
        {
          "output_type": "stream",
          "text": [
            "21\n",
            "정답입니다!\n"
          ],
          "name": "stdout"
        }
      ]
    },
    {
      "cell_type": "code",
      "metadata": {
        "colab": {
          "base_uri": "https://localhost:8080/"
        },
        "id": "dI4wT1rj9xOo",
        "outputId": "55f05ccc-63e1-4613-b9f2-a37cf6de9f76"
      },
      "source": [
        "import random\r\n",
        "number = random.randint(1,100)\r\n",
        "print(number) # 숫자를 보이지 않게 하려면 이 줄만 지우면 된다\r\n",
        "\r\n",
        "while True :\r\n",
        "    try: \r\n",
        "        guess = int(input('숫자를 입력하세요 : '))\r\n",
        "        if guess == number :\r\n",
        "            print('정답입니다!')\r\n",
        "            break\r\n",
        "        elif guess > number :\r\n",
        "            print(\"그 수보다 작습니다\")\r\n",
        "        else :\r\n",
        "            print(\"그 수보다 큽니다\")\r\n",
        "    except :\r\n",
        "        print(\"1~100 사이의 숫자를 입력하세요\")"
      ],
      "execution_count": 22,
      "outputs": [
        {
          "output_type": "stream",
          "text": [
            "59\n",
            "숫자를 입력하세요 : 59\n",
            "정답입니다!\n"
          ],
          "name": "stdout"
        }
      ]
    },
    {
      "cell_type": "code",
      "metadata": {
        "colab": {
          "base_uri": "https://localhost:8080/"
        },
        "id": "uKBJckswbOxb",
        "outputId": "7e63a1be-8d8a-4721-8a0c-918522d556c7"
      },
      "source": [
        "from random import randrange\r\n",
        "\r\n",
        "number = randrange(1,100)\r\n",
        "n = 10\r\n",
        "\r\n",
        "while n != 0 :\r\n",
        "    r = int(input(\"숫자를 입력하세요 : \"))\r\n",
        "    if number < r < 101 :\r\n",
        "        print(\"Down\")\r\n",
        "        n-=1\r\n",
        "    elif 0 < r < number :\r\n",
        "        print(\"Up\")\r\n",
        "        n-=1\r\n",
        "    elif number == r :\r\n",
        "        print(\"정답입니다!\")\r\n",
        "        break\r\n",
        "    else :\r\n",
        "        print(\"1~100 사이의 숫자를 입력하세요\")\r\n",
        "if n==0 :\r\n",
        "    print(\"도전 기회가 소모되었습니다. 정답은 {} 입니다.\".format(number))    "
      ],
      "execution_count": 31,
      "outputs": [
        {
          "output_type": "stream",
          "text": [
            "숫자를 입력하세요 : 50\n",
            "Up\n",
            "숫자를 입력하세요 : 80\n",
            "Down\n",
            "숫자를 입력하세요 : 70\n",
            "Up\n",
            "숫자를 입력하세요 : 75\n",
            "Down\n",
            "숫자를 입력하세요 : 73\n",
            "Down\n",
            "숫자를 입력하세요 : 72\n",
            "정답입니다!\n"
          ],
          "name": "stdout"
        }
      ]
    },
    {
      "cell_type": "code",
      "metadata": {
        "id": "CjF205nhcAXU"
      },
      "source": [
        ""
      ],
      "execution_count": null,
      "outputs": []
    }
  ]
}