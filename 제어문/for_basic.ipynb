{
  "nbformat": 4,
  "nbformat_minor": 0,
  "metadata": {
    "colab": {
      "name": "for_basic.ipynb",
      "provenance": [],
      "collapsed_sections": [],
      "toc_visible": true
    },
    "kernelspec": {
      "name": "python3",
      "display_name": "Python 3"
    }
  },
  "cells": [
    {
      "cell_type": "markdown",
      "metadata": {
        "id": "PZAj1bwKLpp4"
      },
      "source": [
        "**반복문** : 어떤 범위 안에서 특정 명령을 반복하는 구문   \r\n",
        "(일정한 횟수 또는 어떤 조건을 만족할 동안만 반복하도록 범위를 한정할 수 있다)"
      ]
    },
    {
      "cell_type": "markdown",
      "metadata": {
        "id": "dFYx7IEvNYEX"
      },
      "source": [
        "## for\r\n",
        "\r\n",
        "for 문을 사용해 반복하려면 '무엇을 반복하는지'와 '얼마만큼 반복하는지'를 알아야 한다.   \r\n",
        "즉, '무엇을 반복하라'는 **명령**과 '얼마만큼 반복하라'는 **범위**를 꼭 넣어야 한다.\r\n",
        "\r\n"
      ]
    },
    {
      "cell_type": "markdown",
      "metadata": {
        "id": "UNVZhpzrRbN_"
      },
      "source": [
        "for 문의 반복 범위는 **시퀀스**로 표현한다.   \r\n",
        "(시퀀스 : 리스트, 튜플, 문자열과 같이 여러 원소가 순서대로 나열된 형태의 자료형)\r\n",
        "\r\n",
        "```\r\n",
        "for 변수 in 시퀀스 :\r\n",
        "　　<반복할 명령 1>\r\n",
        "　　<반복할 명령 2>\r\n",
        "　　...\r\n",
        "```\r\n",
        "\r\n",
        "for 뒤에 변수 이름을 정하여 쓴 뒤   \r\n",
        "in 키워드와 시퀀스 자료를 적으면   \r\n",
        "시퀀스 원소의 개수만큼 반복하겠다는 뜻이 된다.   \r\n",
        "반복할 명령은 그 다음 줄에 들여쓰기를 한 후 적으면 된다."
      ]
    },
    {
      "cell_type": "code",
      "metadata": {
        "colab": {
          "base_uri": "https://localhost:8080/"
        },
        "id": "DtRbAGVdRUv2",
        "outputId": "d343bf4b-9748-4d3f-ec9b-d356b27fb2c3"
      },
      "source": [
        "for i in [1, 2, 3] :\r\n",
        "    print('*')"
      ],
      "execution_count": 36,
      "outputs": [
        {
          "output_type": "stream",
          "text": [
            "*\n",
            "*\n",
            "*\n"
          ],
          "name": "stdout"
        }
      ]
    },
    {
      "cell_type": "markdown",
      "metadata": {
        "id": "fYyUNVk-TMz2"
      },
      "source": [
        "변수 이름을 i 로 하고   \r\n",
        "반복할 범위로 리스트 [1, 2, 3]을 사용하여 반복한다.\r\n",
        "\r\n",
        "1. 원소 1을 i 변수에 담은 후 * 을 출력한다.\r\n",
        "2. 원소 2를 i 변수에 담은 후 * 을 출력한다.\r\n",
        "3. 원소 3을 i 변수에 담은 후 * 을 출력한다.\r\n",
        "\r\n",
        "결론적으로, 변수 i에 시퀀스 [1, 2, 3]의 원소가 하나씩 대입될 때마다 print(*) 명령이 한 번씩 총 세 번 실행된다.\r\n"
      ]
    },
    {
      "cell_type": "code",
      "metadata": {
        "colab": {
          "base_uri": "https://localhost:8080/"
        },
        "id": "X57KGAiSUVam",
        "outputId": "d1fd81ef-0072-4723-839a-845d508e7e07"
      },
      "source": [
        "for i in [\"a\", \"b\", \"c\"] :\r\n",
        "    print('*')"
      ],
      "execution_count": 37,
      "outputs": [
        {
          "output_type": "stream",
          "text": [
            "*\n",
            "*\n",
            "*\n"
          ],
          "name": "stdout"
        }
      ]
    },
    {
      "cell_type": "markdown",
      "metadata": {
        "id": "gy2DcjerU47W"
      },
      "source": [
        "\r\n",
        "반복문의 범위가 시퀀스 [1, 2, 3] 대신에 문자열 [a, b, c]로 주어져도 원소의 개수는 같으므로 실행 결과는 같다."
      ]
    },
    {
      "cell_type": "code",
      "metadata": {
        "colab": {
          "base_uri": "https://localhost:8080/"
        },
        "id": "9qYXptFWVGEg",
        "outputId": "de95b9ca-7513-4df1-8355-b14608a05ea6"
      },
      "source": [
        "for i in [1, 2, 3, 4] :\r\n",
        "    print(i)\r\n"
      ],
      "execution_count": 38,
      "outputs": [
        {
          "output_type": "stream",
          "text": [
            "1\n",
            "2\n",
            "3\n",
            "4\n"
          ],
          "name": "stdout"
        }
      ]
    },
    {
      "cell_type": "markdown",
      "metadata": {
        "id": "xYmlaju7VNSu"
      },
      "source": [
        "\r\n",
        "\r\n",
        "1. 변수 i에 시퀀스의 원소 1을 담은 후 변수 i를 출력한다. → 1\r\n",
        "2. 변수 i에 시퀀스의 원소 2를 담은 후 변수 i를 출력한다. → 2\r\n",
        "3. 변수 i에 시퀀스의 원소 3을 담은 후 변수 i를 출력한다. → 3\r\n",
        "4. 변수 i에 시퀀스의 원소 4를 담은 후 변수 i를 출력한다. → 4\r\n",
        "\r\n"
      ]
    },
    {
      "cell_type": "markdown",
      "metadata": {
        "id": "jQVH_2yPVkae"
      },
      "source": [
        "**for문 작성시 주의할 점**\r\n",
        "\r\n",
        "```\r\n",
        "for 변수 in 시퀀스 :\r\n",
        "　　<반복할 명령>\r\n",
        "```\r\n",
        "1. for, 변수, in, 시퀀스 사이는 띄어쓰기를 한다.\r\n",
        "2. in 키워드를 적은 뒤 반복할 범위로 사용할 시퀀스를 적어야 한다.\r\n",
        "3. 시퀀스 뒤에는 반드시 콜론(:)을 넣어준다.\r\n",
        "4. 명령을 적기 전에 `Enter`를 눌러 줄을 바꿔준다.\r\n",
        "5. `Tab`이나 `Spacebar`로 들여쓰기를 한 다음 반복할 명령을 입력해야 한다.\r\n"
      ]
    }
  ]
}