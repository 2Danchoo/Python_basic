{
  "nbformat": 4,
  "nbformat_minor": 0,
  "metadata": {
    "colab": {
      "name": "while_basic.ipynb",
      "provenance": []
    },
    "kernelspec": {
      "name": "python3",
      "display_name": "Python 3"
    }
  },
  "cells": [
    {
      "cell_type": "markdown",
      "metadata": {
        "id": "_XFyQkWVr_tt"
      },
      "source": [
        "## while\r\n",
        "\r\n",
        "특정 조건이 주어질 때 이 조건이 참일 동안 명령을 반복하게 할 경우 **while 문**을 사용한다.\r\n",
        "\r\n",
        "```\r\n",
        "while <조건문> :\r\n",
        "　　<반복할 명령1>\r\n",
        "　　<반복할 명령2>\r\n",
        "```\r\n",
        "\r\n",
        "while 문의 구조는 if문과 비슷하다.   \r\n",
        "조건이 참이면 명령을 반복하여 실행하고, 조건이 거짓이면 명령을 실행하지 않고 반복문에서 빠져나온다.   \r\n",
        "\r\n",
        "다만, if 문은 조건이 참일 경우 명령을 한 번만 실행하는 반면에   \r\n",
        "while문은 조건이 참일 경우 계속해서 반복하여 실행한다는 차이점이 있다.\r\n",
        "\r\n",
        "즉, while 문은 명령을 실행한 뒤에 다시 조건을 확인하고 여전히 조건이 참이라면 다시 명령을 실행한다.   \r\n",
        "이를 반복하다가 조건이 거짓이 되었을 경우 while 문에서 빠져나오는 것."
      ]
    },
    {
      "cell_type": "code",
      "metadata": {
        "colab": {
          "base_uri": "https://localhost:8080/"
        },
        "id": "-yIttt6lr9yY",
        "outputId": "4c08c701-83dc-4e04-827f-19b76a751b77"
      },
      "source": [
        "i = 1\r\n",
        "while i <= 3 :\r\n",
        "    print(i)\r\n",
        "    i = i + 1\r\n",
        "    \r\n",
        "print(\"시작!\")"
      ],
      "execution_count": 5,
      "outputs": [
        {
          "output_type": "stream",
          "text": [
            "1\n",
            "2\n",
            "3\n",
            "시작!\n"
          ],
          "name": "stdout"
        }
      ]
    },
    {
      "cell_type": "markdown",
      "metadata": {
        "id": "_mi7Nj9cu4Wd"
      },
      "source": [
        "변수 i 에 1이 저장되어 있다.   \r\n",
        "while 문에서 조건 i 가 3보다 작거나 같을 경우 (`i <= 3` 이 참일 경우) 다음의 명령을 실행한다.\r\n",
        "\r\n",
        "\r\n",
        "1.  i를 출력한다. `# print(i)`\r\n",
        "2.  i에서 1을 더한 다음 다시 i에 저장한다. `# i = i + 1`\r\n",
        "\r\n",
        "조건 i<=3 이 거짓이면 while문에서 빠져나와 문자열 \"시작!\"을 출력한다.\r\n",
        "\r\n",
        "| i = 1일 때 | i = 2일 때 | i = 3일 때 | i = 4일 때 |\r\n",
        "|:-:|:-:|:-:|:-:|\r\n",
        "| i <= 3 조건 → 참 | i <= 3 조건 → 참 | i <= 3 조건 → 참 | i <= 3 조건 → 거짓 |\r\n",
        "| print(1)<br> i=2 | print(2) <br> i = 3 | print(3) <br> i = 4 | print(\"시작!\") |"
      ]
    },
    {
      "cell_type": "markdown",
      "metadata": {
        "id": "GsgZVgtd0vye"
      },
      "source": [
        "**while 문을 작성할 때 주의할 점**\r\n",
        "\r\n",
        "\r\n",
        "\r\n",
        "1. while 다음에 한 칸을 띄고 조건을 적어야 한다.\r\n",
        "2. 조건 뒤에는 콜론 (:)을 넣어야 한다.\r\n",
        "3. 명령을 적기 전에는 `Enter`를 눌러 줄을 바꿔주어야 한다.\r\n",
        "4. `Tab`이나 `Spacebar`로 들여쓰기를 한 다음 반복할 명령을 입력하여야 한다.\r\n",
        "5. 명령이 여러 개라면 이어서 `Enter`로 줄을 바꿔준 후에 들여쓰기 한 다음 명령을 입력해 주어야 한다.\r\n",
        "\r\n"
      ]
    },
    {
      "cell_type": "markdown",
      "metadata": {
        "id": "yQFzYN101XOV"
      },
      "source": [
        "<첫 파이썬! 5분 코딩 예제 30번>\r\n"
      ]
    },
    {
      "cell_type": "code",
      "metadata": {
        "colab": {
          "base_uri": "https://localhost:8080/"
        },
        "id": "C9YbgIqcx0XM",
        "outputId": "f1365367-dbc8-447f-d599-af3d1e43a54c"
      },
      "source": [
        "# 'i년째 수감 중입니다.'를 출력하세요\r\n",
        "i = 1\r\n",
        "while i <= 10 :\r\n",
        "    print(\"%d 년째 수감 중입니다.\" %i)\r\n",
        "    i = i + 1\r\n",
        "\r\n",
        "\r\n",
        "# while 문 종료 후 '감옥에서 석방되었습니다!'를 출력합니다\r\n",
        "print('감옥에서 석방되었습니다!')"
      ],
      "execution_count": 6,
      "outputs": [
        {
          "output_type": "stream",
          "text": [
            "1 년째 수감 중입니다.\n",
            "2 년째 수감 중입니다.\n",
            "3 년째 수감 중입니다.\n",
            "4 년째 수감 중입니다.\n",
            "5 년째 수감 중입니다.\n",
            "6 년째 수감 중입니다.\n",
            "7 년째 수감 중입니다.\n",
            "8 년째 수감 중입니다.\n",
            "9 년째 수감 중입니다.\n",
            "10 년째 수감 중입니다.\n",
            "감옥에서 석방되었습니다!\n"
          ],
          "name": "stdout"
        }
      ]
    }
  ]
}