{
  "nbformat": 4,
  "nbformat_minor": 0,
  "metadata": {
    "colab": {
      "name": "input-output.ipynb의 사본",
      "provenance": [],
      "collapsed_sections": []
    },
    "kernelspec": {
      "name": "python3",
      "display_name": "Python 3"
    }
  },
  "cells": [
    {
      "cell_type": "markdown",
      "metadata": {
        "id": "Qe7DnHYG93d2"
      },
      "source": [
        "##**input()**\r\n",
        "\r\n",
        "파이썬 언어로 컴퓨터에 무언가를 입력하고 싶을 때는 먼저 input() 함수를 실행해야 한다.\r\n",
        "\r\n",
        "> 기본형 : 변수 이름 = input()    \r\n",
        "  예 : var = input() *# 입력한 자료를 변수 var에 저장한다*\r\n",
        "\r\n",
        "> 입력 : variable = input()    \r\n",
        "  출력 : print(variable)     \r\n",
        "\r\n",
        "사용자가 컴퓨터에 표준 입력장치(키보드)로 자료를 입력하면 그 내용이 컴퓨터에 전달된다 (문자열을 입력 받는다).    \r\n",
        "컴퓨터는 사용자가 입력한 값을 어딘가에 저장해야 하는데 이때 변수를 사용한다.     \r\n",
        "*(변수 : 상황에 따라 값이 변하는 수 또는 변하는 값을 넣는 공간)*\r\n",
        "\r\n",
        "즉, 내가 설정한 변수에 input() 값을 저장(대입)하는 것."
      ]
    },
    {
      "cell_type": "code",
      "metadata": {
        "colab": {
          "base_uri": "https://localhost:8080/"
        },
        "id": "d4z-LAR9B1qf",
        "outputId": "6d55f33e-7f30-4c96-bae9-758217f6ac68"
      },
      "source": [
        "var = input()\r\n",
        "print(var)"
      ],
      "execution_count": null,
      "outputs": [
        {
          "output_type": "stream",
          "text": [
            "Hello world!\n",
            "Hello world!\n"
          ],
          "name": "stdout"
        }
      ]
    },
    {
      "cell_type": "code",
      "metadata": {
        "colab": {
          "base_uri": "https://localhost:8080/"
        },
        "id": "bal6mPMJDKTf",
        "outputId": "66e92448-d75c-4858-e270-37bcaad718d8"
      },
      "source": [
        "variable = input()\r\n",
        "print('입력값 : ',variable)"
      ],
      "execution_count": null,
      "outputs": [
        {
          "output_type": "stream",
          "text": [
            "Hello world!\n",
            "입력값 :  Hello world!\n"
          ],
          "name": "stdout"
        }
      ]
    },
    {
      "cell_type": "markdown",
      "metadata": {
        "id": "n0ZO1ZBxDixi"
      },
      "source": [
        "input() 함수의 중요한 특징 중 하나는   \r\n",
        "input() 함수로 입력 받은 값을 모두 문자열로 받아들인다는 것이다.\r\n",
        "\r\n",
        "예를 들어, input()에 숫자 7을 입력해도   \r\n",
        "이를 숫자 7이 아닌 문자열 '7'로 인식한다는 것.\r\n",
        "\r\n",
        "---\r\n",
        "\r\n"
      ]
    },
    {
      "cell_type": "markdown",
      "metadata": {
        "id": "ln6hlTDHMzex"
      },
      "source": [
        "[참고] 변수의 이름을 짓는 규칙\r\n",
        "\r\n",
        "|변수 이름|사용 가능 여부|변수 이름 짓기 규칙|\r\n",
        "|:-:|:-:|:-:|\r\n",
        "|name = \"이코딩\"| O | 알파벳을 사용할 수 있다|\r\n",
        "|Name = \"이코딩\"| O | 대/소문자를 구분한다|\r\n",
        "|이름 = \"이코딩\"| O | 한글을 사용할 수 있다|\r\n",
        "|My name = \"이코딩\"| X | 띄어쓰기를 할 수 없다|\r\n",
        "|My_name = \"이코딩\"| O | 밑줄 기호(언더바)를 사용할 수 있다|\r\n",
        "|123 = \"이코딩\"| X | 숫자만 사용할 수 없다|\r\n",
        "|123name = \"이코딩\"| X | 숫자가 맨 앞에 올 수 없다|\r\n",
        "|name1 = \"이코딩\"| O | 처음에 오는 글자가 문자라면 숫자를 사용할 수 있다 |\r\n",
        "| print =  \"이코딩\"| X | 명령어는 사용할 수 없다 \r\n",
        "\r\n"
      ]
    },
    {
      "cell_type": "markdown",
      "metadata": {
        "id": "z6K4x2-vySCv"
      },
      "source": [
        "### sys.stdin.readline\r\n",
        "\r\n",
        "`input`의 단점은 시간이 많이 걸린다는 점이다.\r\n",
        "\r\n",
        "알고리즘 문제를 풀때 input을 사용하면 안 그래도 오래 걸리는 파이썬이 더 오래 걸릴 수 있다.\r\n",
        "\r\n",
        "이런 경우는 `sys.stdin.readline`을 사용하면   \r\n",
        "`input` 보다 더 빠른 시간내에 로직을 수행할 수 있다.\r\n",
        "\r\n",
        "<br>\r\n",
        "\r\n",
        "출처: https://potensj.tistory.com/120 [개발이야기]"
      ]
    },
    {
      "cell_type": "code",
      "metadata": {
        "id": "bbHgCvauyiW_"
      },
      "source": [
        "import sys\r\n",
        "n = map(int, sys.stdin.readline())"
      ],
      "execution_count": null,
      "outputs": []
    },
    {
      "cell_type": "markdown",
      "metadata": {
        "id": "VwTAydxVCrKQ"
      },
      "source": [
        "## **print()**"
      ]
    },
    {
      "cell_type": "markdown",
      "metadata": {
        "id": "nyrJSeZ7YoYF"
      },
      "source": [
        "컴퓨터에 저장된 정보는 프로그래밍 언어를 이용해 모니터에 나타낼 수 있다. 이것을 출력이라고 한다. <br>\r\n",
        "파이썬에서는 출력할 때 **`print()`** 함수를 사용한다. \r\n",
        "\r\n",
        "그렇다면, a 라는 이름을 가진 변수를 만들어 5 라는 값을 a에 넣어보자"
      ]
    },
    {
      "cell_type": "code",
      "metadata": {
        "id": "n2pewZupxQwV"
      },
      "source": [
        "a = 5"
      ],
      "execution_count": null,
      "outputs": []
    },
    {
      "cell_type": "markdown",
      "metadata": {
        "id": "eea4ZMS0xZ_W"
      },
      "source": [
        "명령을 실행시켰음에도, 아무 것도 출력되지 않는 이유는   \r\n",
        "'a 라는 변수에 5 라는 값을 담으라는 명령'만 했기 때문이다.\r\n",
        "\r\n",
        "그럼 명령을 잘 실행하였는지 출력하라는 명령을 내려보자"
      ]
    },
    {
      "cell_type": "code",
      "metadata": {
        "colab": {
          "base_uri": "https://localhost:8080/"
        },
        "id": "7q9eEc7iyB1-",
        "outputId": "0a236d22-6a2f-4202-ed75-24a7e9d9a2c5"
      },
      "source": [
        "a = 5\r\n",
        "print(a)"
      ],
      "execution_count": null,
      "outputs": [
        {
          "output_type": "stream",
          "text": [
            "5\n"
          ],
          "name": "stdout"
        }
      ]
    },
    {
      "cell_type": "markdown",
      "metadata": {
        "id": "k3sBX5MJuE1W"
      },
      "source": [
        "**print() 함수에 문자열을 입력할 때, '작은 따옴표' 또는 \"큰 따옴표\"를 함께 사용한다.**"
      ]
    },
    {
      "cell_type": "code",
      "metadata": {
        "colab": {
          "base_uri": "https://localhost:8080/"
        },
        "id": "DPy72NtAbYfJ",
        "outputId": "82fa817c-15ab-4d6c-f485-3c34ff0058b0"
      },
      "source": [
        "# '작은 따옴표' 또는 \"큰 따옴표\" 둘 중 어느 것이든 사용 가능하다.\r\n",
        "# '작은 따옴표'와 \"큰 따옴표\"를 함께 써서 문자열을 구분해줄 수도 있다. \r\n",
        "\r\n",
        "print('Hello world')\r\n",
        "print(\"Hello world\")\r\n",
        "print(\"This is 'world'\")\r\n",
        "print(\"This is he's world\")\r\n",
        "print('she said, \"Hello world\"')"
      ],
      "execution_count": null,
      "outputs": [
        {
          "output_type": "stream",
          "text": [
            "Hello world\n",
            "Hello world\n",
            "This is 'world'\n",
            "This is he's world\n",
            "she said, \"Hello world\"\n"
          ],
          "name": "stdout"
        }
      ]
    },
    {
      "cell_type": "markdown",
      "metadata": {
        "id": "yVQQd2-2yIu2"
      },
      "source": [
        "**print() 함수에 변수와 문자를 같이 출력할 수 있다.**\r\n",
        "\r\n",
        "다른 문자와 변수를 묶어 하나로 출력할 때는   \r\n",
        "따옴표로 묶은 문자와 문자형 변수 사이에 `더하기(+) 기호`를 사용하면 된다."
      ]
    },
    {
      "cell_type": "code",
      "metadata": {
        "colab": {
          "base_uri": "https://localhost:8080/"
        },
        "id": "VyY0Nr7g0gX_",
        "outputId": "6114fdbb-382e-4a6f-ef9e-0491658d9d07"
      },
      "source": [
        "name = \"python\"\r\n",
        "print(\"내 이름은 \" + name +\"이야\")"
      ],
      "execution_count": null,
      "outputs": [
        {
          "output_type": "stream",
          "text": [
            "내 이름은 python이야\n"
          ],
          "name": "stdout"
        }
      ]
    },
    {
      "cell_type": "markdown",
      "metadata": {
        "id": "k2cIAIDJfPPb"
      },
      "source": [
        "### 확장 문자 출력\r\n"
      ]
    },
    {
      "cell_type": "markdown",
      "metadata": {
        "id": "TbEcjwl3bipE"
      },
      "source": [
        "**\\n 을 삽입하거나, <br>\r\n",
        "'''작은 따옴표''' 또는 \"\"\"큰 따옴표\"\"\"를 사용하여 줄바꿈을 해줄 수도 있다. (docstring 방식)**"
      ]
    },
    {
      "cell_type": "code",
      "metadata": {
        "colab": {
          "base_uri": "https://localhost:8080/"
        },
        "id": "lCqR7f-5btjz",
        "outputId": "b9d873da-0e27-4ea9-f1a1-fe69a88bffe6"
      },
      "source": [
        "print(\"그렇다면 \\\\n을 사용하여 \\n줄바꿈을 해봅시다\")\r\n",
        "print(\"\")\r\n",
        "print(\"\"\"다른 방식으로도 \r\n",
        "줄 바꿈을 해봅시다\"\"\")"
      ],
      "execution_count": null,
      "outputs": [
        {
          "output_type": "stream",
          "text": [
            "그렇다면 \\n을 사용하여 \n",
            "줄바꿈을 해봅시다\n",
            "\n",
            "다른 방식으로도 \n",
            "줄 바꿈을 해봅시다\n"
          ],
          "name": "stdout"
        }
      ]
    },
    {
      "cell_type": "markdown",
      "metadata": {
        "id": "5f128rTidgw7"
      },
      "source": [
        "**\\t 를 삽입하여 한 탭을 띄어 쓸 수도 있다.**"
      ]
    },
    {
      "cell_type": "code",
      "metadata": {
        "colab": {
          "base_uri": "https://localhost:8080/"
        },
        "id": "3dn4_qYMdAaE",
        "outputId": "6748de5e-bb86-4ef6-aef2-9d18c060bf7b"
      },
      "source": [
        "print(\"이번에는 \\\\t를 사용하여 \\t 띄어쓰기를 해봅시다\")"
      ],
      "execution_count": null,
      "outputs": [
        {
          "output_type": "stream",
          "text": [
            "이번에는 \\t를 사용하여 \t 띄어쓰기를 해봅시다\n"
          ],
          "name": "stdout"
        }
      ]
    },
    {
      "cell_type": "markdown",
      "metadata": {
        "id": "WhnxASNfg1hz"
      },
      "source": [
        "\\n, \\t 와 같은 문자를 **확장 문자** 라고 하는데 <br>\r\n",
        " **기본 확장 문자(escape sequence)** 는 다음과 같다.\r\n",
        "\r\n",
        " > \\\\' : 따옴표 문자   \r\n",
        " \\\\\"\" : 쌍따옴표 문자   \r\n",
        "\\ : backslash 문자   \r\n",
        "\\a : bell 문자   \r\n",
        "\\f : Formfeed 문자   \r\n",
        "\\n : newline 문자   \r\n",
        "\\r : carriage return 문자   \r\n",
        "\\t : tab 문자   \r\n",
        "\\v : vertical tab 문자   "
      ]
    },
    {
      "cell_type": "markdown",
      "metadata": {
        "id": "sQgQy2LNb7md"
      },
      "source": [
        "### help(print)"
      ]
    },
    {
      "cell_type": "markdown",
      "metadata": {
        "id": "q1qtD-FVw_Ie"
      },
      "source": [
        "파이썬에 내장된 함수인 **`help()`** 함수를 사용하여 **`print()`** 함수에 대한 도움말 (혹은 사용법)을 보자."
      ]
    },
    {
      "cell_type": "code",
      "metadata": {
        "colab": {
          "base_uri": "https://localhost:8080/"
        },
        "id": "1Uv8wnPrZM5c",
        "outputId": "5a9c7e56-1181-43cd-d237-c2844b08f591"
      },
      "source": [
        "help(print)"
      ],
      "execution_count": null,
      "outputs": [
        {
          "output_type": "stream",
          "text": [
            "Help on built-in function print in module builtins:\n",
            "\n",
            "print(...)\n",
            "    print(value, ..., sep=' ', end='\\n', file=sys.stdout, flush=False)\n",
            "    \n",
            "    Prints the values to a stream, or to sys.stdout by default.\n",
            "    Optional keyword arguments:\n",
            "    file:  a file-like object (stream); defaults to the current sys.stdout.\n",
            "    sep:   string inserted between values, default a space.\n",
            "    end:   string appended after the last value, default a newline.\n",
            "    flush: whether to forcibly flush the stream.\n",
            "\n"
          ],
          "name": "stdout"
        }
      ]
    },
    {
      "cell_type": "markdown",
      "metadata": {
        "id": "xYbJAT-uWsfO"
      },
      "source": [
        "print() 함수에서 사용하는 기본 옵션은 아래와 같다   \r\n",
        "```\r\n",
        "print(...)   \r\n",
        "　　print(value, ..., sep=' ', end='\\n', file=sys.stdout, flush=False)\r\n"
      ]
    },
    {
      "cell_type": "markdown",
      "metadata": {
        "id": "fm5wZcUyVsh1"
      },
      "source": [
        "### file\r\n",
        "\r\n",
        "print 함수에서 file=sys.stdout 라는 의미는 파일을 표준 출력장치로 보내라는 의미이다.   \r\n",
        "이는 함수에서 기본 매개 변수에 포함되는 것이므로 출력장치를 따로 설정해주지 않는다면 file의 default(기본값)으로 file=sys.stdout 가 되어 print의 결과를 모니터로 출력하게 된다.\r\n"
      ]
    },
    {
      "cell_type": "code",
      "metadata": {
        "id": "_uDPhLEcVzxz"
      },
      "source": [
        "f = open('d:\\\\temp.txt','w') # 디렉토리 d에 temp.txt파일을 쓰기 모드로 열라는 명령\r\n",
        "print(\"안녕하세요\", file=f)"
      ],
      "execution_count": null,
      "outputs": []
    },
    {
      "cell_type": "markdown",
      "metadata": {
        "id": "AcTSYyoZZ8L0"
      },
      "source": [
        "```\r\n",
        "f = open('d:\\\\temp.txt','w')       \r\n",
        "print(\"안녕하세요\", file=f)\r\n",
        "```\r\n",
        "\r\n",
        "위의 코드를 실행하면    \r\n",
        "![printfile.jpg](data:image/jpeg;base64,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)\r\n",
        "\r\n",
        "위와 같이 D 드라이브에 temp.txt 파일이 생성되어 있는 것을 볼 수 있다."
      ]
    },
    {
      "cell_type": "markdown",
      "metadata": {
        "id": "nEmi-CQ8cHOL"
      },
      "source": [
        "### sep (separator)\r\n",
        "\r\n",
        "**, (구분자)**를 사용하면 입력된 문자열 사이에 내가 설정하여 입력해준 구분자가 들어간다.\r\n",
        "```\r\n",
        "sep = ' '\r\n",
        "```\r\n",
        "구분자의 기본값은 ' '(공백)으로 아무 것도 입력하지 않았을 때에는 띄어쓰기가 되고,   \r\n",
        "다른 내용으로 출력하고자 할 때에는 출력 부분을 **,(콤마, 구분자)**로 구분해준 후 `sep=\"내용\"`의 형식으로 사용하면 된다.\r\n"
      ]
    },
    {
      "cell_type": "code",
      "metadata": {
        "colab": {
          "base_uri": "https://localhost:8080/"
        },
        "id": "2yf3DRKVo-9D",
        "outputId": "e6b60aa7-a6b3-40d6-87d0-8a5882d4021e"
      },
      "source": [
        "print(\"안녕파이썬\")\r\n",
        "print(\"안녕\"\"파이썬\")\r\n",
        "print(\"안녕\", \"파이썬\")\r\n",
        "print(\"안녕\", \"파이썬\", sep=\"!\")\r\n",
        "print(\"안\",\"녕\",\"파\",\"이\",\"썬\", sep=\"-\")"
      ],
      "execution_count": null,
      "outputs": [
        {
          "output_type": "stream",
          "text": [
            "안녕파이썬\n",
            "안녕파이썬\n",
            "안녕 파이썬\n",
            "안녕!파이썬\n",
            "안-녕-파-이-썬\n"
          ],
          "name": "stdout"
        }
      ]
    },
    {
      "cell_type": "markdown",
      "metadata": {
        "id": "on9el_ajtSgY"
      },
      "source": [
        "### end\r\n",
        "`print()`함수와 `print(함수)` 사이의 출력 서식을 지정할 때 사용한다.\r\n",
        "```\r\n",
        "end = \\n\r\n",
        "```\r\n",
        "end의 기본값은 \\n 으로   \r\n",
        "별도로 end 값을 설정하지 않고 `print()`함수를 연달아 출력하면 줄이 바뀌어 출력된다. (개행)\r\n"
      ]
    },
    {
      "cell_type": "code",
      "metadata": {
        "colab": {
          "base_uri": "https://localhost:8080/"
        },
        "id": "teGR3hUKtroY",
        "outputId": "354012fd-4a58-4c9d-9563-b11b76ff2c8e"
      },
      "source": [
        "print(\"안녕 파이썬\", end = '!')\r\n",
        "print(\"안녕 파이썬\", end = \"~\\n\")\r\n",
        "print(\"안녕 파이썬\", end = \"\\n\\n\")\r\n",
        "print(\"안녕 파이썬 \", end = \"Hello world\")"
      ],
      "execution_count": null,
      "outputs": [
        {
          "output_type": "stream",
          "text": [
            "안녕 파이썬!안녕 파이썬~\n",
            "안녕 파이썬\n",
            "\n",
            "안녕 파이썬 Hello world"
          ],
          "name": "stdout"
        }
      ]
    }
  ]
}