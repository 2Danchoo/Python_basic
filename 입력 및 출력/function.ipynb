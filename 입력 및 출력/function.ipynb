{
  "nbformat": 4,
  "nbformat_minor": 0,
  "metadata": {
    "colab": {
      "name": "function.ipynb",
      "provenance": [],
      "collapsed_sections": []
    },
    "kernelspec": {
      "name": "python3",
      "display_name": "Python 3"
    },
    "language_info": {
      "name": "python"
    }
  },
  "cells": [
    {
      "cell_type": "markdown",
      "metadata": {
        "id": "jnJMQrBrVJOy"
      },
      "source": [
        "# 함수\n",
        "함수 : 특정 기능을 실행하는 코드 또는 코드의 모임\n",
        "\n",
        "> A function in python defined as a a group of statements that required to perform a task which takes required inputs and returns the output. \n",
        "\n",
        "함수는 파이썬을 통해 어떠한 입력을 받아 특정 명령을 실행하고, 그 결과를 알려주는 역할을 한다.\n",
        "\n",
        "\n",
        "\n",
        " \n",
        " "
      ]
    },
    {
      "cell_type": "markdown",
      "metadata": {
        "id": "3OynZ1VFYPik"
      },
      "source": [
        "> We have two types of functions 1. built-in functions and 2. user defined functions. We have many built-in functions in python.\n",
        "\n",
        "파이썬의 함수에는 크게 두 종류가 있다.\n",
        "파이썬 내부에 이미 만들어져 있는 함수를 **내장 함수**라고 하고,   \n",
        "사용자가 새롭게 만든 함수를 **사용자 정의 함수**라고 한다.\n",
        "\n",
        "\n",
        "\n",
        "\n"
      ]
    },
    {
      "cell_type": "markdown",
      "metadata": {
        "id": "vdc0vnxHzlLp"
      },
      "source": [
        "## 1. 내장 함수 (Built-in function)\n",
        "\n",
        "내장 함수란 파이썬 내부에 저장되어 있는 함수를 말한다.   \n",
        "우리가 자주 사용하는 `print()`, `input()` 등이 바로 내장 함수이다.\n",
        "\n",
        "파이썬의 내장 함수는 [Python documentation](https://https://docs.python.org/3/library/functions.html#built-in-functions)에서 그 목록을 볼 수 있다.\n",
        "\n",
        "<img src = \"https://i.stack.imgur.com/LxITc.png\">"
      ]
    },
    {
      "cell_type": "markdown",
      "metadata": {
        "id": "xKUDiGoi0A8w"
      },
      "source": [
        ""
      ]
    },
    {
      "cell_type": "markdown",
      "metadata": {
        "id": "oXLaNa4QzyP2"
      },
      "source": [
        "## 사용자 정의 함수 (User defiend function)\n",
        "\n",
        "Syntax :   \n",
        "```\n",
        "def function_name(arg1, arg2) :   \n",
        "　　statement 1\n",
        "　　statement 2\n",
        "　　returen None\n",
        "```\n",
        "\n",
        "```\n",
        "def 함수 이름 (매개변수) :　　# 매개변수가 없을 경우 생략\n",
        "　　<실행할 명령 1>\n",
        "　　<실행할 명령 2>\n",
        "　　...\n",
        "　　return 반환값 　　# 반환하지 않을 경우 생략\n",
        "```\n",
        "\n",
        "**1. def 키워드로 시작**\n",
        "\n",
        "`def`는 '정의하다'를 뜻하는 define의 줄임말이다.   \n",
        "`def`는 함수의 틀을 만들어 준다는 의미로 이해할 수 있다.\n",
        "`def`를 입력하고 한 칸을 띄운 후 함수 이름을 적으면 함수의 틀이 생긴다.\n",
        "\n",
        "```\n",
        "def my_func\n",
        "```\n",
        "\n",
        "**2. 함수 안에 값 전달**\n",
        "\n",
        "함수 안에서 변수를 사용해야 한다면 함수 이름 옆에 소괄호를 붙이고 변수 이름을 적는다.   \n",
        "이때 소괄호 안의 변수를 **매개 변수** 라고 한다.   \n",
        "매개변수는 값을 함수 안으로 전달하는 역할을 한다.\n",
        "\n",
        "```\n",
        "def my_func(a, b) :\n",
        "```\n",
        "\n",
        "매개변수는 없어도 되므로 소괄호를 비워둘 수도 있다.   \n",
        "매개변수를 여러 개 사용할 때는 쉼표(,)로 구분해서 나열한다.   \n",
        "모두 적은 후에 콜론(:)을 반드시 붙여 준다.\n",
        "\n",
        "\n",
        "**3. 줄을 바꾸고 들여쓰기를 한 다음 명령 입력**\n",
        "\n",
        "줄을 바꾸고 들여쓰기를 한 후에 함수가 실행할 명령을 적어 준다.   \n",
        "이 명령이 함수가 하는 일, 즉 함수의 기능이 된다.\n",
        "\n",
        "```\n",
        "def my_func(a, b) :\n",
        "　　c = 2 * (a + b)\n",
        "```\n",
        "\n",
        "**4. return으로 돌려주기**\n",
        "\n",
        "함수 안에서 만들어진 결괏값을 함수 밖에 알려주고 싶다면   \n",
        "`return` 키워드와 함께 반;환할 값을 적어 주어야 한다.   \n",
        "명령을 다 적은 후 줄을 바꾸고 똑같이 들여쓰기를 한 상태에서 return과 반환값을 적으면 된다.\n",
        "\n",
        "```\n",
        "def my_func(a, b) :\n",
        "　　c = 2 * (a + b)\n",
        "　　return c\n",
        "```\n",
        "\n",
        "`return`은 단어 그대로 '돌려주는' 역할을 한다.   \n",
        "함수의 명령을 거친 후의 어떤 값을 함수 밖으로 전해준다.   \n",
        "이 역시 생략 가능하다. (반환값은 있을 수도, 없을 수도 있다.)"
      ]
    },
    {
      "cell_type": "markdown",
      "metadata": {
        "id": "oK7iorAZWDpZ"
      },
      "source": [
        "<p align=\"center\">\n",
        "<img src = \"https://learnbatta.com/assets/images/python/functions-python.png\">\n",
        "</P>"
      ]
    },
    {
      "cell_type": "markdown",
      "metadata": {
        "id": "ciFMYrvbWZD6"
      },
      "source": [
        "## Reference\n",
        "\n",
        "Python Functions : https://learnbatta.com/course/python/python-working-with-functions/   \n",
        "Built-in Functions : https://docs.python.org/3/library/functions.html#built-in-functions   \n",
        "엘리스 코딩, <Do it! 첫 파이썬>, 이지스퍼블리싱, 2020"
      ]
    }
  ]
}