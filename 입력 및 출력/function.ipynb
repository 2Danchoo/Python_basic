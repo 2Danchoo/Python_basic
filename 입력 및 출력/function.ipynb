{
  "nbformat": 4,
  "nbformat_minor": 0,
  "metadata": {
    "colab": {
      "name": "function.ipynb",
      "provenance": [],
      "collapsed_sections": []
    },
    "kernelspec": {
      "name": "python3",
      "display_name": "Python 3"
    },
    "language_info": {
      "name": "python"
    }
  },
  "cells": [
    {
      "cell_type": "markdown",
      "metadata": {
        "id": "jnJMQrBrVJOy"
      },
      "source": [
        "# 함수\n",
        "함수 : 특정 기능을 실행하는 코드 또는 코드의 모임\n",
        "\n",
        "> A function in python defined as a a group of statements that required to perform a task which takes required inputs and returns the output. \n",
        "\n",
        "함수는 파이썬을 통해 어떠한 입력을 받아 특정 명령을 실행하고, 그 결과를 알려주는 역할을 한다.\n",
        "\n",
        "\n",
        "\n",
        " \n",
        " "
      ]
    },
    {
      "cell_type": "markdown",
      "metadata": {
        "id": "3OynZ1VFYPik"
      },
      "source": [
        "> We have two types of functions 1. built-in functions and 2. user defined functions. We have many built-in functions in python.\n",
        "\n",
        "파이썬의 함수에는 크게 두 종류가 있다.\n",
        "파이썬 내부에 이미 만들어져 있는 함수를 **내장 함수**라고 하고,   \n",
        "사용자가 새롭게 만든 함수를 **사용자 정의 함수**라고 한다.\n",
        "\n",
        "\n",
        "\n",
        "\n"
      ]
    },
    {
      "cell_type": "markdown",
      "metadata": {
        "id": "vdc0vnxHzlLp"
      },
      "source": [
        "## 1. 내장 함수 (Built-in function)\n",
        "\n",
        "내장 함수란 파이썬 내부에 저장되어 있는 함수를 말한다.   \n",
        "우리가 자주 사용하는 `print()`, `input()` 등이 바로 내장 함수이다.\n",
        "\n",
        "파이썬의 내장 함수는 [Python documentation](https://https://docs.python.org/3/library/functions.html#built-in-functions)에서 그 목록을 볼 수 있다.\n",
        "\n",
        "<img src = \"https://i.stack.imgur.com/LxITc.png\">"
      ]
    },
    {
      "cell_type": "markdown",
      "metadata": {
        "id": "xKUDiGoi0A8w"
      },
      "source": [
        ""
      ]
    },
    {
      "cell_type": "markdown",
      "metadata": {
        "id": "oXLaNa4QzyP2"
      },
      "source": [
        "## 사용자 정의 함수 (User defiend function)\n",
        "\n",
        "Syntax :   \n",
        "```\n",
        "def function_name(arg1, arg2) :   \n",
        "　　statement 1\n",
        "　　statement 2\n",
        "　　returen None\n",
        "```\n",
        "\n",
        "```\n",
        "def 함수 이름 (매개변수) :　　# 매개변수가 없을 경우 생략\n",
        "　　<실행할 명령 1>\n",
        "　　<실행할 명령 2>\n",
        "　　...\n",
        "　　return 반환값 　　# 반환하지 않을 경우 생략\n",
        "```\n",
        "\n",
        "**1. def 키워드로 시작**\n",
        "\n",
        "`def`는 '정의하다'를 뜻하는 define의 줄임말이다.   \n",
        "`def`는 함수의 틀을 만들어 준다는 의미로 이해할 수 있다.\n",
        "`def`를 입력하고 한 칸을 띄운 후 함수 이름을 적으면 함수의 틀이 생긴다.\n",
        "\n",
        "```\n",
        "def my_func\n",
        "```\n",
        "\n",
        "**2. 함수 안에 값 전달**\n",
        "\n",
        "함수 안에서 변수를 사용해야 한다면 함수 이름 옆에 소괄호를 붙이고 변수 이름을 적는다.   \n",
        "이때 소괄호 안의 변수를 **매개 변수** 라고 한다.   \n",
        "매개변수는 값을 함수 안으로 전달하는 역할을 한다.\n",
        "\n",
        "```\n",
        "def my_func(a, b) :\n",
        "```\n",
        "\n",
        "매개변수는 없어도 되므로 소괄호를 비워둘 수도 있다.   \n",
        "매개변수를 여러 개 사용할 때는 쉼표(,)로 구분해서 나열한다.   \n",
        "모두 적은 후에 콜론(:)을 반드시 붙여 준다.\n",
        "\n",
        "\n",
        "**3. 줄을 바꾸고 들여쓰기를 한 다음 명령 입력**\n",
        "\n",
        "줄을 바꾸고 들여쓰기를 한 후에 함수가 실행할 명령을 적어 준다.   \n",
        "이 명령이 함수가 하는 일, 즉 함수의 기능이 된다.\n",
        "\n",
        "```\n",
        "def my_func(a, b) :\n",
        "　　c = 2 * (a + b)\n",
        "```\n",
        "\n",
        "**4. return으로 돌려주기**\n",
        "\n",
        "함수 안에서 만들어진 결괏값을 함수 밖에 알려주고 싶다면   \n",
        "`return` 키워드와 함께 반;환할 값을 적어 주어야 한다.   \n",
        "명령을 다 적은 후 줄을 바꾸고 똑같이 들여쓰기를 한 상태에서 return과 반환값을 적으면 된다.\n",
        "\n",
        "```\n",
        "def my_func(a, b) :\n",
        "　　c = 2 * (a + b)\n",
        "　　return c\n",
        "```\n",
        "\n",
        "`return`은 단어 그대로 '돌려주는' 역할을 한다.   \n",
        "함수의 명령을 거친 후의 어떤 값을 함수 밖으로 전해준다.   \n",
        "이 역시 생략 가능하다. (반환값은 있을 수도, 없을 수도 있다.)"
      ]
    },
    {
      "cell_type": "markdown",
      "metadata": {
        "id": "oK7iorAZWDpZ"
      },
      "source": [
        "<p align=\"center\">\n",
        "<img src = \"https://learnbatta.com/assets/images/python/functions-python.png\">\n",
        "</P>"
      ]
    },
    {
      "cell_type": "markdown",
      "metadata": {
        "id": "OgvezPZ9qjgV"
      },
      "source": [
        "[예제] [점프 투 파이썬](https://wikidocs.net/24) 04-1. 함수\n",
        "\n",
        "```\n",
        "def add(a, b): \n",
        "    return a + b\n",
        "```\n",
        "\n",
        "위 함수는 다음과 같이 풀이된다.\n",
        "\n",
        "> \"이 함수의 이름(함수 이름)은 add이고 입력으로 2개의 값을 받으며 결괏값은 2개의 입력값을 더한 값이다.\""
      ]
    },
    {
      "cell_type": "code",
      "metadata": {
        "colab": {
          "base_uri": "https://localhost:8080/"
        },
        "id": "dBMkiuWEqzVi",
        "outputId": "0f06dbf6-8d83-4467-decf-9c5c473cc6ba"
      },
      "source": [
        "def add(a, b) : \n",
        "    return a + b\n",
        "\n",
        "a = 1\n",
        "b = 2\n",
        "c = add(a, b)\n",
        "print(c)"
      ],
      "execution_count": 4,
      "outputs": [
        {
          "output_type": "stream",
          "text": [
            "3\n"
          ],
          "name": "stdout"
        }
      ]
    },
    {
      "cell_type": "markdown",
      "metadata": {
        "id": "ZFQWyMpgnsaJ"
      },
      "source": [
        "[예제]    \n",
        "첫! 파이썬 [5분 코딩 42]\n",
        "\n",
        "나만의 별 찍기 함수\n",
        "밤하늘에 빛나는 나만의 별자리를 만들어 보세요. 별을 원하는 개수만큼 찍어 1층짜리 별자리를 결괏값으로 반환하는 함수를 직접 만들어 보세요.\n",
        "\n",
        "함수의 조건\n",
        "\n",
        "함수 이름은 my_star라고 지어요.\n",
        "매개변수로 a를 사용해요.\n",
        "함수를 실행하면 *과 a를 곱하고 그 값을 반환해요.\n",
        "\n",
        "예) a가 7일 때 실행 결과: *******"
      ]
    },
    {
      "cell_type": "code",
      "metadata": {
        "colab": {
          "base_uri": "https://localhost:8080/"
        },
        "id": "vNksHStJn0C2",
        "outputId": "9b06856f-6113-46fb-c524-a9e526af3c9e"
      },
      "source": [
        "# 조건에 맞게 사용자 정의 함수를 만들어 보세요\n",
        "def my_star(a) :\n",
        "    return '*' * a\n",
        "\n",
        "# 함수를 사용해 1층짜리 별자리를 출력해 보세요\n",
        "print(my_star(1))"
      ],
      "execution_count": 2,
      "outputs": [
        {
          "output_type": "stream",
          "text": [
            "*\n"
          ],
          "name": "stdout"
        }
      ]
    },
    {
      "cell_type": "markdown",
      "metadata": {
        "id": "2SR9l6zyotq3"
      },
      "source": [
        "# 변수(parameter)\n",
        "\n",
        "**변수의 유효 범위(variable scope)**\n",
        "파이썬에서는 변수가 선언된 위치에 따라 해당 변수가 영향을 미치는 범위까지 달라지며, 이것을 변수의 유효 범위(variable scope)라고 부른다.\n",
        "\n",
        "함수 안에서 일어나는 일은 함수 밖에서 알 수 없다.   \n",
        "곧 함수 안에서 정의한 변수는 함수 밖에서 사용할 수 없다는 의미이다.   \n",
        "어디서든 사용할 수 있는 변수를 만들고 싶다면 함수 밖에서 정의해야 한다.\n",
        " \n",
        "\n",
        "파이썬에서 변수는 유효 범위에 따라 다음과 같이 나눌 수 있다.\n",
        "\n",
        "1. 지역 변수(local variable)\n",
        "2. 전역 변수(global variable)\n",
        "\n",
        "함수 안에서 정의한 변수를 **지역 변수(local varaiable)**라 하고,   \n",
        "함수 밖에서 정의한 변수를 **전역 변수(global variable)**라고 한다.\n",
        "\n",
        "\n"
      ]
    },
    {
      "cell_type": "markdown",
      "metadata": {
        "id": "0pfPEzys0Jya"
      },
      "source": [
        "### 지역 변수 (local variable)\n",
        "\n",
        "**지역 변수(local variable)**란 함수 내에서 선언된 변수를 의미한다.   \n",
        "이렇게 함수 내에서 선언된 지역 변수는 일반적으로 함수 내에서만 사용할 수 있다.\n",
        "\n",
        "함수 내부에서 선언된 지역 변수는 함수의 호출이 끝남과 동시에 소멸되므로,   \n",
        "함수 밖에서 접근하려고 하면 선언되지 않은 변수에 접근하는 것으로 인식하여 오류가 발생한다.\n",
        "   \n",
        "함수의 매개변수 또한 함수 내부에서 정의되는 지역 변수로 취급된다."
      ]
    },
    {
      "cell_type": "code",
      "metadata": {
        "colab": {
          "base_uri": "https://localhost:8080/"
        },
        "id": "7gnQdkz73Qrl",
        "outputId": "99dfd3ea-43b6-41f8-c05a-aa79290100c5"
      },
      "source": [
        "def my_func() :\n",
        "    x = 'Hi!'\n",
        "    print(x)\n",
        "\n",
        "my_func()   # 함수 안에서 사용할 수 있다."
      ],
      "execution_count": 6,
      "outputs": [
        {
          "output_type": "stream",
          "text": [
            "Hi!\n"
          ],
          "name": "stdout"
        }
      ]
    },
    {
      "cell_type": "markdown",
      "metadata": {
        "id": "VgBEOtmx7kZe"
      },
      "source": [
        "위의 예시에서 변수 x가 함수 my_func 안에서 정의 되었다.   \n",
        "따라서 변수 x는 지역 변수이므로 함수 밖에서 사용할 수 없다."
      ]
    },
    {
      "cell_type": "code",
      "metadata": {
        "colab": {
          "base_uri": "https://localhost:8080/",
          "height": 208
        },
        "id": "tUgMxV1X3bi9",
        "outputId": "f9542b0c-7533-46a9-f3b8-9a0882e59e7a"
      },
      "source": [
        "def my_func() :\n",
        "    x = 'Hi!'\n",
        "    print(x)\n",
        "\n",
        "print(x)    # 함수 밖에서 사용하면 오류 발생"
      ],
      "execution_count": 7,
      "outputs": [
        {
          "output_type": "error",
          "ename": "NameError",
          "evalue": "ignored",
          "traceback": [
            "\u001b[0;31m---------------------------------------------------------------------------\u001b[0m",
            "\u001b[0;31mNameError\u001b[0m                                 Traceback (most recent call last)",
            "\u001b[0;32m<ipython-input-7-bb6705450c9c>\u001b[0m in \u001b[0;36m<module>\u001b[0;34m()\u001b[0m\n\u001b[1;32m      3\u001b[0m     \u001b[0mprint\u001b[0m\u001b[0;34m(\u001b[0m\u001b[0mx\u001b[0m\u001b[0;34m)\u001b[0m\u001b[0;34m\u001b[0m\u001b[0;34m\u001b[0m\u001b[0m\n\u001b[1;32m      4\u001b[0m \u001b[0;34m\u001b[0m\u001b[0m\n\u001b[0;32m----> 5\u001b[0;31m \u001b[0mprint\u001b[0m\u001b[0;34m(\u001b[0m\u001b[0mx\u001b[0m\u001b[0;34m)\u001b[0m\u001b[0;34m\u001b[0m\u001b[0;34m\u001b[0m\u001b[0m\n\u001b[0m",
            "\u001b[0;31mNameError\u001b[0m: name 'x' is not defined"
          ]
        }
      ]
    },
    {
      "cell_type": "markdown",
      "metadata": {
        "id": "ovntj2je7_mY"
      },
      "source": [
        "my_func() 함수를 실행하면 함수의 print(x)가 실행되어 'Hi!'가 제대로 출력 되지만,   \n",
        "함수 밖에서 print(x)로 변수 x를 출력하면 오류가 발생한다.   \n",
        "함수 안에서 지정한 변수 x는 함수 안에서만 사용할 수 있기 때문이다."
      ]
    },
    {
      "cell_type": "markdown",
      "metadata": {
        "id": "kDtS3sw82QzT"
      },
      "source": [
        "### 전역 변수(global variable)\n",
        "\n",
        "**전역 변수(global variable)**란 함수 외부에서 선언된 변수를 의미한다.\n",
        "\n",
        "이렇게 함수 외부에서 선언된 전역 변수는 함수 외부에서는 당연히 접근할 수 있으며,   \n",
        "\n",
        "함수 내부에서 전역 변수를 사용하기 위해서는 반드시 2 `global` 키워드를 사용하여 해당 전역 변수를 재선언해야 한다.\n",
        "\n",
        "만약 함수 외부에서 선언된 전역 변수와 함수 내부에서 선언된 지역 변수의 이름이 같은 경우,  \n",
        "`global` 키워드를 사용하지 않으면 전혀 별개의 변수로 취급되므로 주의해야 한다."
      ]
    },
    {
      "cell_type": "code",
      "metadata": {
        "colab": {
          "base_uri": "https://localhost:8080/"
        },
        "id": "PtOvDcqo8bpS",
        "outputId": "ad361b37-b7f3-42fb-e7ad-fbbdba1603bc"
      },
      "source": [
        "x = 'Hi!'\n",
        "def my_func() :\n",
        "    print(x)\n",
        "\n",
        "my_func()    # 함수 안에서 사용 가능"
      ],
      "execution_count": 9,
      "outputs": [
        {
          "output_type": "stream",
          "text": [
            "Hi!\n"
          ],
          "name": "stdout"
        }
      ]
    },
    {
      "cell_type": "code",
      "metadata": {
        "colab": {
          "base_uri": "https://localhost:8080/"
        },
        "id": "Z_4tIn2D8i6o",
        "outputId": "303091cd-8ab4-4c39-f03d-e459b4832955"
      },
      "source": [
        "x = 'Hi!'\n",
        "def my_func() :\n",
        "    print(x)\n",
        "\n",
        "print(x)    # 함수 밖에서도 사용 가능"
      ],
      "execution_count": 8,
      "outputs": [
        {
          "output_type": "stream",
          "text": [
            "Hi!\n"
          ],
          "name": "stdout"
        }
      ]
    },
    {
      "cell_type": "markdown",
      "metadata": {
        "id": "wnD9lu3U2w1t"
      },
      "source": [
        "### 지역 변수 vs 전역 변수\n",
        "\n",
        "그렇다면 변수를 선언할 때 지역 변수와 전역 변수 중 어떤 변수로 선언해야 좋을지 고민될 수 있다.\n",
        "\n",
        "둘 중 어떤 변수를 사용하는 것이 더 좋다고 딱 잘라 말할 수는 없으며, 해당 변수가 사용되는 목적에 따라 구분해서 사용할 필요가 있다.\n",
        "\n",
        "즉, 프로그램이 실행되는 내내 변하지 않아야 하거나 여러 함수에서 함께 사용하는 값들은 전역 변수로 선언하는 것이 좋으며, 특정 함수에서만 사용되는 값들은 지역 변수로 선언하는 것이 좋다."
      ]
    },
    {
      "cell_type": "markdown",
      "metadata": {
        "id": "ciFMYrvbWZD6"
      },
      "source": [
        "## Reference\n",
        "\n",
        "Python Functions : https://learnbatta.com/course/python/python-working-with-functions/   \n",
        "Built-in Functions : https://docs.python.org/3/library/functions.html#built-in-functions   \n",
        "엘리스 코딩, <Do it! 첫 파이썬>, 이지스퍼블리싱, 2020   \n",
        "Defining Your Own Python Function : https://realpython.com/defining-your-own-python-function/   \n",
        "Python Function Arguments : https://www.programiz.com/python-programming/function-argument   \n",
        "Python Global, Local and Nonlocal variables : https://www.programiz.com/python-programming/global-local-nonlocal-variables   \n",
        "변수의 유효 범위 : http://www.tcpschool.com/python2018/python_function_scope\n"
      ]
    }
  ]
}